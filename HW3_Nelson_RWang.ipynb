{
 "cells": [
  {
   "cell_type": "markdown",
   "metadata": {},
   "source": [
    "# <p style=\"text-align: center;\">MIS 382N: Advanced Predictive Modeling</p>\n",
    "# <p style=\"text-align: center;\">Assignment 3</p>\n",
    "## <p style=\"text-align: center;\">Total points: 80 </p>\n",
    "## <p style=\"text-align: center;\">Caroline Nelson, Jiaqiu(Rachel) Wang </p>\n",
    "## <p style=\"text-align: center;\">Due: Mon, October 24, by 11:59pm</p>\n",
    "\n",
    "\n",
    "Your homework should be written in a **Jupyter notebook**. Please submit **only one** ipynb file from each group, and include the names of all the group members. Also, please make sure your code runs and the graphics (and anything else) are displayed in your notebook before submitting."
   ]
  },
  {
   "cell_type": "markdown",
   "metadata": {},
   "source": [
    "# Question 1 - Stochastic Gradient Descent (10pts)\n",
    "\n",
    "1. Using stochastic gradient descent, derive the coefficent updates for all 4 coefficients of the model: $$ y = w_0 + w_1*x_1 + w_2*x_1^2 + w_3*x_2 $$ Hint: start from the cost function (Assume sum of squared error). If you write the math by hand, submit that as a separate file and make a reference to it in your notebook or include the image in your notebook.\n",
    "2. Write Python code for an SGD solution to the non-linear model $$ y = w_0 + w_1*x_1 + w_2*x_1^2 + w_3*x_2$$ Try to format similarly to scikit-learn's models. There should be a _fit_ function that takes parameters X, y, learning rate, and number of iterations, and a _predict_ function that takes an X value (optionally, an array of values). Use your new gradient descent regression to predict the data given in 'samples.csv', for 10 epochs, using learning rates: [.0001, .001, .01] . Plot MSE and the $w$ parameters as a function of epoch count."
   ]
  },
  {
   "cell_type": "markdown",
   "metadata": {},
   "source": [
    "1. <img src=\"Q1.jpg\">"
   ]
  },
  {
   "cell_type": "code",
   "execution_count": 1,
   "metadata": {
    "collapsed": true
   },
   "outputs": [],
   "source": [
    "#2\n",
    "\n",
    "import numpy as np\n",
    "import random\n",
    "import sklearn\n",
    "import pylab\n",
    "from scipy import stats\n",
    "from sklearn.utils import shuffle"
   ]
  },
  {
   "cell_type": "code",
   "execution_count": 2,
   "metadata": {
    "collapsed": true
   },
   "outputs": [],
   "source": [
    "#load data\n",
    "\n",
    "import pandas as pd\n",
    "samples=pd.read_csv('samples.csv')\n",
    "samples = samples.drop(samples.columns[[0]], axis=1)\n",
    "\n",
    "\n",
    "samples['intercept'] = 1\n",
    "samples['x1^2'] = samples['x1']**2\n",
    "samples = samples[['intercept', 'x1', 'x1^2', 'x2', 'y']]\n",
    "\n",
    "\n",
    "#data1 = np.array(samples) \n",
    "X = np.array(samples.drop(samples.columns[[4]], axis=1))\n",
    "y = np.array(samples['y'])\n",
    "#data1"
   ]
  },
  {
   "cell_type": "code",
   "execution_count": 3,
   "metadata": {
    "collapsed": true
   },
   "outputs": [],
   "source": [
    "class StochasticGradient():\n",
    "    \n",
    "    \n",
    "    def __init__(self, alpha, epoch):\n",
    "        \"\"\"The learning rate, and epochs (e.g. number of times to repeat)\"\"\"\n",
    "        self.alpha = alpha\n",
    "        self.epoch = epoch\n",
    "\n",
    "    def fit(self, X, y):\n",
    "        \"\"\"The fit function takes X and y as arrays\"\"\"\n",
    "        \n",
    "        weight = np.array([0,0,0,0])\n",
    "        self.weights_epoch = []\n",
    "\n",
    "        for iteration in range(self.epoch):\n",
    "            X,y = shuffle(X,y)\n",
    "\n",
    "            for i in range(len(y)):\n",
    "\n",
    "                hypothesis = X[i].dot(weight)\n",
    "                loss = hypothesis-y[i]\n",
    "                gradient = 2* X[i].T.dot(loss)\n",
    "                weight = weight - self.alpha*gradient        \n",
    "\n",
    "            # Store weights of every epoch into a list\n",
    "            # self.weights_epoch.append((iteration+1,weight))\n",
    "\n",
    "        self.weights = weight\n",
    "        \n",
    "    def predict(self, X_test, weight = None):\n",
    "        \"\"\"The predict function takes in an array for X and optional weights. Default values\n",
    "        are the weights from fitting the model. To see the predicted values, use self.predictions\"\"\"\n",
    "        \n",
    "        # Define parameters to calculate hypothesis\n",
    "        if weight == None:\n",
    "            weight = self.weights\n",
    "            \n",
    "        else:\n",
    "            weight = weight\n",
    "        \n",
    "        alpha = self.alpha\n",
    "        \n",
    "        x_test = X_test\n",
    "        \n",
    "        # Create list to store predictions\n",
    "        predictions = []\n",
    "        mse = []\n",
    "\n",
    "        # Store prediction of every point in list\n",
    "        for i in x_test:\n",
    "        \n",
    "            y_test = i.dot(weight)\n",
    "            \n",
    "            predictions.append(y_test)\n",
    "            \n",
    "        self.predictions = predictions"
   ]
  },
  {
   "cell_type": "code",
   "execution_count": 4,
   "metadata": {
    "collapsed": false
   },
   "outputs": [
    {
     "data": {
      "text/html": [
       "<div>\n",
       "<table border=\"1\" class=\"dataframe\">\n",
       "  <thead>\n",
       "    <tr style=\"text-align: right;\">\n",
       "      <th></th>\n",
       "      <th>0.0001</th>\n",
       "      <th>0.001</th>\n",
       "      <th>0.01</th>\n",
       "      <th>Actual</th>\n",
       "    </tr>\n",
       "  </thead>\n",
       "  <tbody>\n",
       "    <tr>\n",
       "      <th>0</th>\n",
       "      <td>1.030846</td>\n",
       "      <td>4.065188</td>\n",
       "      <td>-4.210041e+267</td>\n",
       "      <td>0.916551</td>\n",
       "    </tr>\n",
       "    <tr>\n",
       "      <th>1</th>\n",
       "      <td>-12.905997</td>\n",
       "      <td>-10.692398</td>\n",
       "      <td>-2.947872e+267</td>\n",
       "      <td>-11.135640</td>\n",
       "    </tr>\n",
       "    <tr>\n",
       "      <th>2</th>\n",
       "      <td>-13.215476</td>\n",
       "      <td>-10.158436</td>\n",
       "      <td>-3.425008e+267</td>\n",
       "      <td>-10.801274</td>\n",
       "    </tr>\n",
       "    <tr>\n",
       "      <th>3</th>\n",
       "      <td>1.042938</td>\n",
       "      <td>3.293869</td>\n",
       "      <td>-3.403800e+267</td>\n",
       "      <td>0.752401</td>\n",
       "    </tr>\n",
       "    <tr>\n",
       "      <th>4</th>\n",
       "      <td>-1.109720</td>\n",
       "      <td>0.946164</td>\n",
       "      <td>-3.495067e+267</td>\n",
       "      <td>-1.507111</td>\n",
       "    </tr>\n",
       "    <tr>\n",
       "      <th>5</th>\n",
       "      <td>-14.737713</td>\n",
       "      <td>-13.909588</td>\n",
       "      <td>-2.736980e+267</td>\n",
       "      <td>-14.368052</td>\n",
       "    </tr>\n",
       "    <tr>\n",
       "      <th>6</th>\n",
       "      <td>-14.463943</td>\n",
       "      <td>-14.101353</td>\n",
       "      <td>-2.906561e+267</td>\n",
       "      <td>-14.926405</td>\n",
       "    </tr>\n",
       "    <tr>\n",
       "      <th>7</th>\n",
       "      <td>-7.081659</td>\n",
       "      <td>-6.725260</td>\n",
       "      <td>-1.310722e+267</td>\n",
       "      <td>-6.696970</td>\n",
       "    </tr>\n",
       "    <tr>\n",
       "      <th>8</th>\n",
       "      <td>-8.718862</td>\n",
       "      <td>-8.474395</td>\n",
       "      <td>-2.256923e+267</td>\n",
       "      <td>-9.308390</td>\n",
       "    </tr>\n",
       "    <tr>\n",
       "      <th>9</th>\n",
       "      <td>-4.948403</td>\n",
       "      <td>-4.411653</td>\n",
       "      <td>-2.259316e+267</td>\n",
       "      <td>-5.590497</td>\n",
       "    </tr>\n",
       "    <tr>\n",
       "      <th>10</th>\n",
       "      <td>-9.920956</td>\n",
       "      <td>-8.422107</td>\n",
       "      <td>-2.134180e+267</td>\n",
       "      <td>-8.573142</td>\n",
       "    </tr>\n",
       "    <tr>\n",
       "      <th>11</th>\n",
       "      <td>21.275233</td>\n",
       "      <td>28.045919</td>\n",
       "      <td>-4.939036e+267</td>\n",
       "      <td>22.987737</td>\n",
       "    </tr>\n",
       "    <tr>\n",
       "      <th>12</th>\n",
       "      <td>-7.022790</td>\n",
       "      <td>-6.632582</td>\n",
       "      <td>-2.308855e+267</td>\n",
       "      <td>-7.671620</td>\n",
       "    </tr>\n",
       "    <tr>\n",
       "      <th>13</th>\n",
       "      <td>-1.629647</td>\n",
       "      <td>-0.113977</td>\n",
       "      <td>-2.982544e+267</td>\n",
       "      <td>-2.133810</td>\n",
       "    </tr>\n",
       "    <tr>\n",
       "      <th>14</th>\n",
       "      <td>-9.255456</td>\n",
       "      <td>-8.683699</td>\n",
       "      <td>-2.840011e+267</td>\n",
       "      <td>-9.973964</td>\n",
       "    </tr>\n",
       "    <tr>\n",
       "      <th>15</th>\n",
       "      <td>-2.938479</td>\n",
       "      <td>-1.643303</td>\n",
       "      <td>-2.912800e+267</td>\n",
       "      <td>-3.508493</td>\n",
       "    </tr>\n",
       "    <tr>\n",
       "      <th>16</th>\n",
       "      <td>-12.883824</td>\n",
       "      <td>-11.571131</td>\n",
       "      <td>-2.555430e+267</td>\n",
       "      <td>-11.891167</td>\n",
       "    </tr>\n",
       "    <tr>\n",
       "      <th>17</th>\n",
       "      <td>-9.201233</td>\n",
       "      <td>-6.871802</td>\n",
       "      <td>-2.401651e+267</td>\n",
       "      <td>-7.121162</td>\n",
       "    </tr>\n",
       "    <tr>\n",
       "      <th>18</th>\n",
       "      <td>-7.344542</td>\n",
       "      <td>-7.068846</td>\n",
       "      <td>-2.166939e+267</td>\n",
       "      <td>-7.955699</td>\n",
       "    </tr>\n",
       "    <tr>\n",
       "      <th>19</th>\n",
       "      <td>-9.017355</td>\n",
       "      <td>-8.122158</td>\n",
       "      <td>-3.239338e+267</td>\n",
       "      <td>-9.762700</td>\n",
       "    </tr>\n",
       "    <tr>\n",
       "      <th>20</th>\n",
       "      <td>-11.917257</td>\n",
       "      <td>-9.460320</td>\n",
       "      <td>-2.906130e+267</td>\n",
       "      <td>-9.893825</td>\n",
       "    </tr>\n",
       "    <tr>\n",
       "      <th>21</th>\n",
       "      <td>4.542813</td>\n",
       "      <td>8.944491</td>\n",
       "      <td>-5.070965e+267</td>\n",
       "      <td>4.912003</td>\n",
       "    </tr>\n",
       "    <tr>\n",
       "      <th>22</th>\n",
       "      <td>-16.173985</td>\n",
       "      <td>-15.249781</td>\n",
       "      <td>-3.007405e+267</td>\n",
       "      <td>-15.800142</td>\n",
       "    </tr>\n",
       "    <tr>\n",
       "      <th>23</th>\n",
       "      <td>19.882454</td>\n",
       "      <td>26.191446</td>\n",
       "      <td>-4.707134e+267</td>\n",
       "      <td>21.392629</td>\n",
       "    </tr>\n",
       "    <tr>\n",
       "      <th>24</th>\n",
       "      <td>-14.141371</td>\n",
       "      <td>-13.407230</td>\n",
       "      <td>-2.617983e+267</td>\n",
       "      <td>-13.838072</td>\n",
       "    </tr>\n",
       "    <tr>\n",
       "      <th>25</th>\n",
       "      <td>-6.039888</td>\n",
       "      <td>-4.348270</td>\n",
       "      <td>-3.774071e+267</td>\n",
       "      <td>-6.647642</td>\n",
       "    </tr>\n",
       "    <tr>\n",
       "      <th>26</th>\n",
       "      <td>-0.420670</td>\n",
       "      <td>1.286707</td>\n",
       "      <td>-3.027527e+267</td>\n",
       "      <td>-0.859025</td>\n",
       "    </tr>\n",
       "    <tr>\n",
       "      <th>27</th>\n",
       "      <td>-7.612552</td>\n",
       "      <td>-7.323554</td>\n",
       "      <td>-2.218692e+267</td>\n",
       "      <td>-8.230460</td>\n",
       "    </tr>\n",
       "    <tr>\n",
       "      <th>28</th>\n",
       "      <td>-7.027437</td>\n",
       "      <td>-5.260498</td>\n",
       "      <td>-3.990940e+267</td>\n",
       "      <td>-7.653225</td>\n",
       "    </tr>\n",
       "    <tr>\n",
       "      <th>29</th>\n",
       "      <td>-8.443436</td>\n",
       "      <td>-6.637383</td>\n",
       "      <td>-4.225918e+267</td>\n",
       "      <td>-9.104995</td>\n",
       "    </tr>\n",
       "    <tr>\n",
       "      <th>30</th>\n",
       "      <td>-6.364601</td>\n",
       "      <td>-6.030688</td>\n",
       "      <td>-2.146899e+267</td>\n",
       "      <td>-6.990808</td>\n",
       "    </tr>\n",
       "    <tr>\n",
       "      <th>31</th>\n",
       "      <td>-13.571895</td>\n",
       "      <td>-12.867010</td>\n",
       "      <td>-2.512509e+267</td>\n",
       "      <td>-13.260393</td>\n",
       "    </tr>\n",
       "    <tr>\n",
       "      <th>32</th>\n",
       "      <td>-13.663720</td>\n",
       "      <td>-12.012891</td>\n",
       "      <td>-2.818686e+267</td>\n",
       "      <td>-12.413999</td>\n",
       "    </tr>\n",
       "    <tr>\n",
       "      <th>33</th>\n",
       "      <td>-11.098973</td>\n",
       "      <td>-9.709887</td>\n",
       "      <td>-2.285478e+267</td>\n",
       "      <td>-9.922464</td>\n",
       "    </tr>\n",
       "    <tr>\n",
       "      <th>34</th>\n",
       "      <td>-12.697113</td>\n",
       "      <td>-10.635270</td>\n",
       "      <td>-2.841909e+267</td>\n",
       "      <td>-11.038809</td>\n",
       "    </tr>\n",
       "    <tr>\n",
       "      <th>35</th>\n",
       "      <td>-14.133543</td>\n",
       "      <td>-13.694153</td>\n",
       "      <td>-2.654100e+267</td>\n",
       "      <td>-14.261370</td>\n",
       "    </tr>\n",
       "    <tr>\n",
       "      <th>36</th>\n",
       "      <td>-8.023068</td>\n",
       "      <td>-7.528680</td>\n",
       "      <td>-1.493049e+267</td>\n",
       "      <td>-7.541467</td>\n",
       "    </tr>\n",
       "    <tr>\n",
       "      <th>37</th>\n",
       "      <td>-8.616074</td>\n",
       "      <td>-8.382388</td>\n",
       "      <td>-1.617122e+267</td>\n",
       "      <td>-8.544985</td>\n",
       "    </tr>\n",
       "    <tr>\n",
       "      <th>38</th>\n",
       "      <td>-13.185342</td>\n",
       "      <td>-12.820530</td>\n",
       "      <td>-2.912738e+267</td>\n",
       "      <td>-13.800070</td>\n",
       "    </tr>\n",
       "    <tr>\n",
       "      <th>39</th>\n",
       "      <td>-0.044726</td>\n",
       "      <td>0.939848</td>\n",
       "      <td>-2.170721e+267</td>\n",
       "      <td>-0.566830</td>\n",
       "    </tr>\n",
       "  </tbody>\n",
       "</table>\n",
       "</div>"
      ],
      "text/plain": [
       "       0.0001      0.001           0.01     Actual\n",
       "0    1.030846   4.065188 -4.210041e+267   0.916551\n",
       "1  -12.905997 -10.692398 -2.947872e+267 -11.135640\n",
       "2  -13.215476 -10.158436 -3.425008e+267 -10.801274\n",
       "3    1.042938   3.293869 -3.403800e+267   0.752401\n",
       "4   -1.109720   0.946164 -3.495067e+267  -1.507111\n",
       "5  -14.737713 -13.909588 -2.736980e+267 -14.368052\n",
       "6  -14.463943 -14.101353 -2.906561e+267 -14.926405\n",
       "7   -7.081659  -6.725260 -1.310722e+267  -6.696970\n",
       "8   -8.718862  -8.474395 -2.256923e+267  -9.308390\n",
       "9   -4.948403  -4.411653 -2.259316e+267  -5.590497\n",
       "10  -9.920956  -8.422107 -2.134180e+267  -8.573142\n",
       "11  21.275233  28.045919 -4.939036e+267  22.987737\n",
       "12  -7.022790  -6.632582 -2.308855e+267  -7.671620\n",
       "13  -1.629647  -0.113977 -2.982544e+267  -2.133810\n",
       "14  -9.255456  -8.683699 -2.840011e+267  -9.973964\n",
       "15  -2.938479  -1.643303 -2.912800e+267  -3.508493\n",
       "16 -12.883824 -11.571131 -2.555430e+267 -11.891167\n",
       "17  -9.201233  -6.871802 -2.401651e+267  -7.121162\n",
       "18  -7.344542  -7.068846 -2.166939e+267  -7.955699\n",
       "19  -9.017355  -8.122158 -3.239338e+267  -9.762700\n",
       "20 -11.917257  -9.460320 -2.906130e+267  -9.893825\n",
       "21   4.542813   8.944491 -5.070965e+267   4.912003\n",
       "22 -16.173985 -15.249781 -3.007405e+267 -15.800142\n",
       "23  19.882454  26.191446 -4.707134e+267  21.392629\n",
       "24 -14.141371 -13.407230 -2.617983e+267 -13.838072\n",
       "25  -6.039888  -4.348270 -3.774071e+267  -6.647642\n",
       "26  -0.420670   1.286707 -3.027527e+267  -0.859025\n",
       "27  -7.612552  -7.323554 -2.218692e+267  -8.230460\n",
       "28  -7.027437  -5.260498 -3.990940e+267  -7.653225\n",
       "29  -8.443436  -6.637383 -4.225918e+267  -9.104995\n",
       "30  -6.364601  -6.030688 -2.146899e+267  -6.990808\n",
       "31 -13.571895 -12.867010 -2.512509e+267 -13.260393\n",
       "32 -13.663720 -12.012891 -2.818686e+267 -12.413999\n",
       "33 -11.098973  -9.709887 -2.285478e+267  -9.922464\n",
       "34 -12.697113 -10.635270 -2.841909e+267 -11.038809\n",
       "35 -14.133543 -13.694153 -2.654100e+267 -14.261370\n",
       "36  -8.023068  -7.528680 -1.493049e+267  -7.541467\n",
       "37  -8.616074  -8.382388 -1.617122e+267  -8.544985\n",
       "38 -13.185342 -12.820530 -2.912738e+267 -13.800070\n",
       "39  -0.044726   0.939848 -2.170721e+267  -0.566830"
      ]
     },
     "execution_count": 4,
     "metadata": {},
     "output_type": "execute_result"
    }
   ],
   "source": [
    "# Fit model for each learning rate\n",
    "model1 = StochasticGradient(alpha = 0.01, epoch = 10)\n",
    "model1.fit(X, y)\n",
    "model1.predict(X)\n",
    "\n",
    "model2 = StochasticGradient(alpha = 0.001, epoch = 10)\n",
    "model2.fit(X, y)\n",
    "model2.predict(X)\n",
    "\n",
    "model3 = StochasticGradient(alpha = 0.0001, epoch = 10)\n",
    "model3.fit(X, y)\n",
    "model3.predict(X)\n",
    "\n",
    "prediction = {\n",
    "    \"0.01\":model1.predictions,\n",
    "    \"0.001\":model2.predictions,\n",
    "    \"0.0001\":model3.predictions,\n",
    "    \"Actual\":y\n",
    "}\n",
    "\n",
    "# Show prediction results\n",
    "\n",
    "pd.DataFrame(prediction)\n"
   ]
  },
  {
   "cell_type": "code",
   "execution_count": 5,
   "metadata": {
    "collapsed": true
   },
   "outputs": [],
   "source": [
    "#plot\n",
    "# data preparation\n",
    "import matplotlib.pyplot as plt\n",
    "%matplotlib inline\n",
    "\n",
    "alpha_list = [0.01, 0.001, 0.0001]\n",
    "#MSE\n",
    "mse_epoch_01 = []\n",
    "mse_epoch_001 = []\n",
    "mse_epoch_0001 = []\n",
    "mse_list = [mse_epoch_01, mse_epoch_001, mse_epoch_0001]\n",
    "\n",
    "for i in range(len(mse_list)): \n",
    "    for j in range(10):\n",
    "        model = StochasticGradient(alpha = alpha_list[i], epoch = j)\n",
    "        model.fit(X,y)\n",
    "        model.predict(X)\n",
    "        mse_model = np.mean(model.predictions - y)**2\n",
    "        mse_list[i].append(mse_model)\n",
    "\n",
    "\n",
    "w0_epoch_01 = []\n",
    "w0_epoch_001 = []\n",
    "w0_epoch_0001 = []\n",
    "w0_list = [w0_epoch_01, w0_epoch_001, w0_epoch_0001]\n",
    "\n",
    "for i in range(len(w0_list)):\n",
    "    for j in range(10):\n",
    "        model = StochasticGradient(alpha = alpha_list[i], epoch = j)\n",
    "        model.fit(X,y)\n",
    "        w0_list[i].append(model.weights[0])\n",
    "\n",
    "w1_epoch_01 = []\n",
    "w1_epoch_001 = []\n",
    "w1_epoch_0001 = []\n",
    "w1_list = [w1_epoch_01, w1_epoch_001, w1_epoch_0001]\n",
    "\n",
    "for i in range(len(w1_list)):\n",
    "    for j in range(10):\n",
    "        model = StochasticGradient(alpha = alpha_list[i], epoch = j)\n",
    "        model.fit(X,y)\n",
    "        w1_list[i].append(model.weights[1])\n",
    "\n",
    "w2_epoch_01 = []\n",
    "w2_epoch_001 = []\n",
    "w2_epoch_0001 = []\n",
    "w2_list = [w2_epoch_01, w2_epoch_001, w2_epoch_0001]\n",
    "\n",
    "for i in range(len(w2_list)):\n",
    "    for j in range(10):\n",
    "        model = StochasticGradient(alpha = alpha_list[i], epoch = j)\n",
    "        model.fit(X,y)\n",
    "        w2_list[i].append(model.weights[2])\n",
    "\n",
    "w3_epoch_01 = []\n",
    "w3_epoch_001 = []\n",
    "w3_epoch_0001 = []\n",
    "w3_list = [w3_epoch_01, w3_epoch_001, w3_epoch_0001]\n",
    "\n",
    "for i in range(len(w3_list)):\n",
    "    for j in range(10):\n",
    "        model = StochasticGradient(alpha = alpha_list[i], epoch = j)\n",
    "        model.fit(X,y)\n",
    "        w3_list[i].append(model.weights[3])"
   ]
  },
  {
   "cell_type": "code",
   "execution_count": 6,
   "metadata": {
    "collapsed": false
   },
   "outputs": [
    {
     "data": {
      "text/plain": [
       "<matplotlib.text.Text at 0xca0d8d0>"
      ]
     },
     "execution_count": 6,
     "metadata": {},
     "output_type": "execute_result"
    },
    {
     "data": {
      "text/plain": [
       "<matplotlib.figure.Figure at 0xb1a5320>"
      ]
     },
     "metadata": {},
     "output_type": "display_data"
    },
    {
     "data": {
      "image/png": "[encoded data removed]",
      "text/plain": [
       "<matplotlib.figure.Figure at 0xb1a59b0>"
      ]
     },
     "metadata": {},
     "output_type": "display_data"
    }
   ],
   "source": [
    "# Create plots for MSE\n",
    "\n",
    "plt.figure(figsize=(3,1))\n",
    "epoch_list = [1,2,3,4,5,6,7,8,9,10]\n",
    "\n",
    "f, (ax1, ax2, ax3) = plt.subplots(1, 3)\n",
    "f.suptitle(\"MSE\", fontsize = 13, y = 1.1)\n",
    "f.set_size_inches(13,3)\n",
    "\n",
    "ax1.plot(epoch_list, mse_epoch_01)\n",
    "ax1.set_title('Learning Rate = 0.01')\n",
    "ax1.set_xlabel('Epoch #')\n",
    "ax1.set_ylabel('MSE')\n",
    "ax1.set_xlim(1,10)\n",
    "\n",
    "ax2.plot(epoch_list, mse_epoch_001)\n",
    "ax2.set_title('Learning Rate = 0.001')\n",
    "ax2.set_xlabel('Epoch #')\n",
    "\n",
    "ax3.plot(epoch_list, mse_epoch_0001)\n",
    "ax3.set_title('Learning Rate = 0.0001')\n",
    "ax3.set_xlabel('Epoch #')\n"
   ]
  },
  {
   "cell_type": "code",
   "execution_count": 7,
   "metadata": {
    "collapsed": false
   },
   "outputs": [
    {
     "data": {
      "text/plain": [
       "<matplotlib.text.Text at 0xcec3860>"
      ]
     },
     "execution_count": 7,
     "metadata": {},
     "output_type": "execute_result"
    },
    {
     "data": {
      "text/plain": [
       "<matplotlib.figure.Figure at 0xb614b70>"
      ]
     },
     "metadata": {},
     "output_type": "display_data"
    },
    {
     "data": {
      "image/png": "[encoded data removed]",
      "text/plain": [
       "<matplotlib.figure.Figure at 0xb614b38>"
      ]
     },
     "metadata": {},
     "output_type": "display_data"
    }
   ],
   "source": [
    "#create plot for w0\n",
    "\n",
    "plt.figure(figsize=(3,1))\n",
    "epoch_list = [1,2,3,4,5,6,7,8,9,10]\n",
    "\n",
    "f, (ax1, ax2, ax3) = plt.subplots(1, 3)\n",
    "f.suptitle(\"w0\", fontsize = 13, y = 1.1)\n",
    "f.set_size_inches(13,3)\n",
    "\n",
    "ax1.plot(epoch_list, w0_list[0])\n",
    "ax1.set_title('Learning Rate = 0.01')\n",
    "ax1.set_xlabel('Epoch #')\n",
    "ax1.set_ylabel('w0')\n",
    "ax1.set_xlim(1,10)\n",
    "\n",
    "ax2.plot(epoch_list, w0_list[1])\n",
    "ax2.set_title('Learning Rate = 0.001')\n",
    "ax2.set_xlabel('Epoch #')\n",
    "\n",
    "ax3.plot(epoch_list, w0_list[2])\n",
    "ax3.set_title('Learning Rate = 0.0001')\n",
    "ax3.set_xlabel('Epoch #')"
   ]
  },
  {
   "cell_type": "code",
   "execution_count": 8,
   "metadata": {
    "collapsed": false
   },
   "outputs": [
    {
     "data": {
      "text/plain": [
       "<matplotlib.text.Text at 0xd68ae48>"
      ]
     },
     "execution_count": 8,
     "metadata": {},
     "output_type": "execute_result"
    },
    {
     "data": {
      "text/plain": [
       "<matplotlib.figure.Figure at 0xd234ef0>"
      ]
     },
     "metadata": {},
     "output_type": "display_data"
    },
    {
     "data": {
      "image/png": "[encoded data removed]",
      "text/plain": [
       "<matplotlib.figure.Figure at 0xb175be0>"
      ]
     },
     "metadata": {},
     "output_type": "display_data"
    }
   ],
   "source": [
    "#create plot for w1\n",
    "\n",
    "plt.figure(figsize=(3,1))\n",
    "epoch_list = [1,2,3,4,5,6,7,8,9,10]\n",
    "\n",
    "f, (ax1, ax2, ax3) = plt.subplots(1, 3)\n",
    "f.suptitle(\"w1\", fontsize = 13, y = 1.1)\n",
    "f.set_size_inches(13,3)\n",
    "\n",
    "ax1.plot(epoch_list, w1_list[0])\n",
    "ax1.set_title('Learning Rate = 0.01')\n",
    "ax1.set_xlabel('Epoch #')\n",
    "ax1.set_ylabel('w1')\n",
    "ax1.set_xlim(1,10)\n",
    "\n",
    "ax2.plot(epoch_list, w1_list[1])\n",
    "ax2.set_title('Learning Rate = 0.001')\n",
    "ax2.set_xlabel('Epoch #')\n",
    "\n",
    "ax3.plot(epoch_list, w1_list[2])\n",
    "ax3.set_title('Learning Rate = 0.0001')\n",
    "ax3.set_xlabel('Epoch #')"
   ]
  },
  {
   "cell_type": "code",
   "execution_count": 9,
   "metadata": {
    "collapsed": false
   },
   "outputs": [
    {
     "data": {
      "text/plain": [
       "<matplotlib.text.Text at 0xe0a4c18>"
      ]
     },
     "execution_count": 9,
     "metadata": {},
     "output_type": "execute_result"
    },
    {
     "data": {
      "text/plain": [
       "<matplotlib.figure.Figure at 0x9fcec88>"
      ]
     },
     "metadata": {},
     "output_type": "display_data"
    },
    {
     "data": {
      "image/png": "[encoded data removed]",
      "text/plain": [
       "<matplotlib.figure.Figure at 0xcc48470>"
      ]
     },
     "metadata": {},
     "output_type": "display_data"
    }
   ],
   "source": [
    "plt.figure(figsize=(3,1))\n",
    "epoch_list = [1,2,3,4,5,6,7,8,9,10]\n",
    "\n",
    "f, (ax1, ax2, ax3) = plt.subplots(1, 3)\n",
    "f.suptitle(\"w2\", fontsize = 13, y = 1.1)\n",
    "f.set_size_inches(13,3)\n",
    "\n",
    "ax1.plot(epoch_list, w2_list[0])\n",
    "ax1.set_title('Learning Rate = 0.01')\n",
    "ax1.set_xlabel('Epoch #')\n",
    "ax1.set_ylabel('w2')\n",
    "ax1.set_xlim(1,10)\n",
    "\n",
    "ax2.plot(epoch_list, w2_list[1])\n",
    "ax2.set_title('Learning Rate = 0.001')\n",
    "ax2.set_xlabel('Epoch #')\n",
    "\n",
    "ax3.plot(epoch_list, w2_list[2])\n",
    "ax3.set_title('Learning Rate = 0.0001')\n",
    "ax3.set_xlabel('Epoch #')"
   ]
  },
  {
   "cell_type": "code",
   "execution_count": 10,
   "metadata": {
    "collapsed": false
   },
   "outputs": [
    {
     "data": {
      "text/plain": [
       "<matplotlib.text.Text at 0xe71e940>"
      ]
     },
     "execution_count": 10,
     "metadata": {},
     "output_type": "execute_result"
    },
    {
     "data": {
      "text/plain": [
       "<matplotlib.figure.Figure at 0xd389320>"
      ]
     },
     "metadata": {},
     "output_type": "display_data"
    },
    {
     "data": {
      "image/png": "[encoded data removed]",
      "text/plain": [
       "<matplotlib.figure.Figure at 0xdeebc88>"
      ]
     },
     "metadata": {},
     "output_type": "display_data"
    }
   ],
   "source": [
    "plt.figure(figsize=(3,1))\n",
    "epoch_list = [1,2,3,4,5,6,7,8,9,10]\n",
    "\n",
    "f, (ax1, ax2, ax3) = plt.subplots(1, 3)\n",
    "f.suptitle(\"w3\", fontsize = 13, y = 1.1)\n",
    "f.set_size_inches(13,3)\n",
    "\n",
    "ax1.plot(epoch_list, w3_list[0])\n",
    "ax1.set_title('Learning Rate = 0.01')\n",
    "ax1.set_xlabel('Epoch #')\n",
    "ax1.set_ylabel('w2')\n",
    "ax1.set_xlim(1,10)\n",
    "\n",
    "ax2.plot(epoch_list, w3_list[1])\n",
    "ax2.set_title('Learning Rate = 0.001')\n",
    "ax2.set_xlabel('Epoch #')\n",
    "\n",
    "ax3.plot(epoch_list, w3_list[2])\n",
    "ax3.set_title('Learning Rate = 0.0001')\n",
    "ax3.set_xlabel('Epoch #')"
   ]
  },
  {
   "cell_type": "markdown",
   "metadata": {},
   "source": [
    "# Question 2: Gradient Descent (5 pts)\n",
    "\n",
    "Suppose we are trying to use gradient descent to minimize a cost function y = f(w) as shown in the figure below. This function is linearly decreasing between A and B, constant between B and C, quadratic between C and D and constant between D and E. Assume that we have 10000 data points in our training set. If we choose the starting point between B and C, will we be able to find the local minima? Explain your answer. If your answer is \"Yes\", can you give a bound on the number of iterations required to get to the local minima?\n",
    "\n",
    "<img src=\"sgd.png\">"
   ]
  },
  {
   "cell_type": "markdown",
   "metadata": {},
   "source": [
    "### Answer\n",
    "\n",
    "No, we will not be able to get to the local minima, since the derivative at a point between B and C is zero, and will not update the weight."
   ]
  },
  {
   "cell_type": "markdown",
   "metadata": {},
   "source": [
    "# Question 3: Multi-layer Perceptron regressor (15 points)\n",
    "\n",
    "In this question, you will explore the application of Multi-layer Perceptron (MLP) regression using sklearn package in Python. We will use the same dataset used in HW2 Q5: Hitters.csv [here](https://rdrr.io/cran/ISLR/man/Hitters.html). \n",
    "\n",
    "Following code will load and split the data into training and test set using [train_test_split](http://scikit-learn.org/stable/modules/generated/sklearn.model_selection.train_test_split.html) with **random state 42** and **test_size = 0.33**:"
   ]
  },
  {
   "cell_type": "code",
   "execution_count": 11,
   "metadata": {
    "collapsed": false
   },
   "outputs": [
    {
     "name": "stdout",
     "output_type": "stream",
     "text": [
      "(263, 16)\n"
     ]
    }
   ],
   "source": [
    "import pandas as pd\n",
    "import numpy as np\n",
    "from sklearn.model_selection import (train_test_split,KFold)\n",
    "from sklearn.metrics import mean_squared_error\n",
    "from sklearn.neural_network import MLPRegressor\n",
    "from sklearn.preprocessing import StandardScaler\n",
    "import matplotlib.pyplot as plt\n",
    "%matplotlib inline\n",
    "\n",
    "data = pd.read_csv('Hitters.csv')\n",
    "label_name = 'Salary'\n",
    "y = data[label_name]\n",
    "X = data.drop(label_name,axis=1)\n",
    "print X.shape\n",
    "\n",
    "X_train, X_test, y_train, y_test = train_test_split(X,y,test_size = 0.33, random_state=42)"
   ]
  },
  {
   "cell_type": "markdown",
   "metadata": {},
   "source": [
    "One more thing to use in this problem is [StandardScaler](http://scikit-learn.org/stable/modules/generated/sklearn.preprocessing.StandardScaler.html). Instead of fitting a model on original data, use StandardScaler to make each feature centered ([Example](http://scikit-learn.org/stable/auto_examples/applications/plot_prediction_latency.html#sphx-glr-auto-examples-applications-plot-prediction-latency-py)). Whenever you have training and test data, fit a scaler on training data and use this scaler on test data. Here, scale only features (independent variables), not target variable y."
   ]
  },
  {
   "cell_type": "code",
   "execution_count": 12,
   "metadata": {
    "collapsed": false
   },
   "outputs": [],
   "source": [
    "X_scaler = StandardScaler()\n",
    "X_train = X_scaler.fit_transform(X_train)\n",
    "X_train=pd.DataFrame(X_train)\n",
    "X_test = X_scaler.transform(X_test)\n",
    "X_test=pd.DataFrame(X_test)"
   ]
  },
  {
   "cell_type": "markdown",
   "metadata": {},
   "source": [
    "1) Use [sklearn.neural_nework.MLPRegressor](http://scikit-learn.org/stable/modules/generated/sklearn.neural_network.MLPRegressor.html#sklearn.neural_network.MLPRegressor) to do a 5-fold cross validation using sklearn's [KFold](http://scikit-learn.org/stable/modules/generated/sklearn.model_selection.KFold.html#sklearn.model_selection.KFold). The cross validation must be performed on the **training data**. Use following parameter settings for MLPRegressor:\n",
    "\n",
    "    activation = 'tanh', solver = 'sgd', learning_rate='constant', random_state=42,\n",
    "    batch_size=40, learning_rate_init = 0.001\n",
    "    \n",
    "Now, consider two different settings for the number of hidden units:\n",
    "    \n",
    "   (a) *hidden_layer_sizes = (2,)* (b) *hidden_layer_sizes = (15,)*\n",
    "    \n",
    "   Report the average Root Mean Squared Error (RMSE) value based on your 5-fold cross validation for each model: (a) and (b) (6pts)\n",
    "   \n",
    "   \n",
    "2) Now, using the same parameters used in part 1), train MLPRegressor models on whole training data and report RMSE score for both Train and Test set (Again, use StandardScaler). Which model works better, (a) or (b)? Briefly analyze the result in terms of the number of hidden units. (5pts)\n",
    "\n",
    "\n",
    "3) MLPRegressor has a built-in attribute *loss\\_curve\\_* which returns the loss at each iteration. For example, if your model is named as *my_model* you can call it as *my\\_model.loss\\_curve\\_* ([example](http://scikit-learn.org/stable/auto_examples/neural_networks/plot_mlp_training_curves.html#sphx-glr-auto-examples-neural-networks-plot-mlp-training-curves-py)). Plot two curves for model (a) and (b) in one figure, where *X-axis* is iteration number and *Y-axis* is squared root of *loss\\_curve\\_* value. (4pts)"
   ]
  },
  {
   "cell_type": "markdown",
   "metadata": {},
   "source": [
    "#### Part 1"
   ]
  },
  {
   "cell_type": "code",
   "execution_count": 13,
   "metadata": {
    "collapsed": false
   },
   "outputs": [
    {
     "data": {
      "text/plain": [
       "409.78816220052829"
      ]
     },
     "execution_count": 13,
     "metadata": {},
     "output_type": "execute_result"
    }
   ],
   "source": [
    "from sklearn.model_selection import KFold\n",
    "kf=KFold(n_splits=5, random_state=42)\n",
    "\n",
    "\n",
    "MSE_MLP = []\n",
    "for train, test in kf.split(X_train):\n",
    "    MLP= MLPRegressor(hidden_layer_sizes=(2,),activation='tanh',solver='sgd', learning_rate='constant',random_state=42, batch_size=40, learning_rate_init=0.001)\n",
    "    MLP.fit(X_train.iloc[train], y_train.iloc[train])\n",
    "        \n",
    "    pred=MLP.predict(X_train.iloc[test])\n",
    "    actual=y_train.iloc[test]\n",
    "        \n",
    "    MSE=np.mean((pred-actual)**2)\n",
    "        \n",
    "    MSE_MLP.append(MSE)\n",
    "    \n",
    "average_RMSE1= np.mean(np.sqrt(MSE_MLP))\n",
    "average_RMSE1       "
   ]
  },
  {
   "cell_type": "code",
   "execution_count": 14,
   "metadata": {
    "collapsed": false
   },
   "outputs": [
    {
     "data": {
      "text/plain": [
       "310.86752082120927"
      ]
     },
     "execution_count": 14,
     "metadata": {},
     "output_type": "execute_result"
    }
   ],
   "source": [
    "MSE_MLP2 = []\n",
    "for train, test in kf.split(X_train):\n",
    "    MLP2= MLPRegressor(hidden_layer_sizes=(15,),activation='tanh',solver='sgd', learning_rate='constant',random_state=42, batch_size=40, learning_rate_init=0.001)\n",
    "    MLP2.fit(X_train.iloc[train], y_train.iloc[train])\n",
    "        \n",
    "    pred=MLP2.predict(X_train.iloc[test])\n",
    "    actual=y_train.iloc[test]\n",
    "        \n",
    "    MSE2=np.mean((pred-actual)**2)\n",
    "        \n",
    "    MSE_MLP2.append(MSE2)\n",
    "    \n",
    "average_RMSE2= np.mean(np.sqrt(MSE_MLP2))\n",
    "average_RMSE2       "
   ]
  },
  {
   "cell_type": "markdown",
   "metadata": {},
   "source": [
    "We can see that the larger the hidden layer size, the more accurate the model."
   ]
  },
  {
   "cell_type": "markdown",
   "metadata": {},
   "source": [
    "#### Part 2"
   ]
  },
  {
   "cell_type": "code",
   "execution_count": 15,
   "metadata": {
    "collapsed": false
   },
   "outputs": [
    {
     "data": {
      "text/plain": [
       "486.72298623826163"
      ]
     },
     "execution_count": 15,
     "metadata": {},
     "output_type": "execute_result"
    }
   ],
   "source": [
    "MLP3= MLPRegressor(hidden_layer_sizes=(2,),activation='tanh',solver='sgd', learning_rate='constant',random_state=42, batch_size=40, learning_rate_init=0.001)\n",
    "MLP3.fit(X_train, y_train)\n",
    "        \n",
    "pred=MLP3.predict(X_test)\n",
    "actual=y_test\n",
    "        \n",
    "MSE3=np.mean((pred-actual)**2)\n",
    "np.sqrt(MSE3)"
   ]
  },
  {
   "cell_type": "code",
   "execution_count": 16,
   "metadata": {
    "collapsed": false
   },
   "outputs": [
    {
     "data": {
      "text/plain": [
       "412.63797275368898"
      ]
     },
     "execution_count": 16,
     "metadata": {},
     "output_type": "execute_result"
    }
   ],
   "source": [
    "MLP4= MLPRegressor(hidden_layer_sizes=(15,),activation='tanh',solver='sgd', learning_rate='constant',random_state=42, batch_size=40, learning_rate_init=0.001)\n",
    "MLP4.fit(X_train, y_train)\n",
    "        \n",
    "pred=MLP4.predict(X_test)\n",
    "actual=y_test\n",
    "        \n",
    "MSE4=np.mean((pred-actual)**2)\n",
    "np.sqrt(MSE4)   "
   ]
  },
  {
   "cell_type": "markdown",
   "metadata": {},
   "source": [
    "The same is true without cross validation; the larger the hidden layer size, the more accurate the model will be."
   ]
  },
  {
   "cell_type": "markdown",
   "metadata": {},
   "source": [
    "#### Part 3"
   ]
  },
  {
   "cell_type": "code",
   "execution_count": 17,
   "metadata": {
    "collapsed": false
   },
   "outputs": [
    {
     "data": {
      "image/png": "[encoded data removed]",
      "text/plain": [
       "<matplotlib.figure.Figure at 0xe368d30>"
      ]
     },
     "metadata": {},
     "output_type": "display_data"
    }
   ],
   "source": [
    "import matplotlib.pyplot as plt\n",
    "x_coordinate = [ 1 * i for i in range(len(MLP3.loss_curve_)) ]\n",
    "plt.plot(x_coordinate,np.sqrt(MLP3.loss_curve_))\n",
    "x_coordinate = [ 1 * i for i in range(len(MLP4.loss_curve_)) ]\n",
    "plt.plot(x_coordinate,np.sqrt(MLP4.loss_curve_))\n",
    "plt.show()\n"
   ]
  },
  {
   "cell_type": "markdown",
   "metadata": {},
   "source": [
    "# Question 4 - Bayesian Classifiers (10 pts)\n",
    "\n",
    "Download the Smarket dataset from Canvas. This contains about four years worth of daily prices for one stock. The goal is to predict whether or not the stock price will go up or down, and the features are the stock prices of the last five days.  \n",
    "The code below loads the dataset and all necessary sklearn modules (not that you can't use more if you feel like it). Look up any module on the scikit-learn website for a full description.\n",
    "\n",
    "1. The last 50 points will be the test dataset. For training, use the 1000 points prior to these 50 test points.\n",
    "2. Train Linear Discriminant Analysis, Quadratic Discriminant Analysis, and (Gaussian) Naive Bayes. Extract the probability of the stock price going up for each row in the test set.\n",
    "3. Plot the receiver operating characteristic (ROC) curve of each model, using the extracted probabilities and the true values for the test set. (3 pts)\n",
    "4. Report the area under the ROC curve (AUC) for each model. (2 pts)\n",
    "6. Justify the performance of each model, relative to the others. (1 pts)\n",
    "7. Repeat steps 1-6, only using the prior 100 points for training. Explain the changes in model performance. (4 pts)"
   ]
  },
  {
   "cell_type": "code",
   "execution_count": 18,
   "metadata": {
    "collapsed": true
   },
   "outputs": [],
   "source": [
    "import pandas as pd\n",
    "from sklearn.model_selection import train_test_split\n",
    "from sklearn.metrics import roc_curve, roc_auc_score\n",
    "from sklearn.naive_bayes import GaussianNB\n",
    "from sklearn.discriminant_analysis import LinearDiscriminantAnalysis as LDA\n",
    "from sklearn.discriminant_analysis import QuadraticDiscriminantAnalysis as QDA\n",
    "data = pd.read_csv('Smarket.csv', usecols=['Lag1','Lag2','Lag3','Lag4','Lag5','Direction'])"
   ]
  },
  {
   "cell_type": "code",
   "execution_count": 19,
   "metadata": {
    "collapsed": false
   },
   "outputs": [
    {
     "name": "stderr",
     "output_type": "stream",
     "text": [
      "C:\\Users\\rache\\Anaconda2\\lib\\site-packages\\ipykernel\\__main__.py:1: SettingWithCopyWarning: \n",
      "A value is trying to be set on a copy of a slice from a DataFrame\n",
      "\n",
      "See the caveats in the documentation: http://pandas.pydata.org/pandas-docs/stable/indexing.html#indexing-view-versus-copy\n",
      "  if __name__ == '__main__':\n",
      "C:\\Users\\rache\\Anaconda2\\lib\\site-packages\\ipykernel\\__main__.py:2: SettingWithCopyWarning: \n",
      "A value is trying to be set on a copy of a slice from a DataFrame\n",
      "\n",
      "See the caveats in the documentation: http://pandas.pydata.org/pandas-docs/stable/indexing.html#indexing-view-versus-copy\n",
      "  from ipykernel import kernelapp as app\n"
     ]
    }
   ],
   "source": [
    "data['Direction'][data['Direction'] == 'Up'] = 1.0\n",
    "data['Direction'][data['Direction'] == 'Down'] = 0.0\n",
    "\n",
    "Xtrain=data.iloc[199:1199]\n",
    "train_set=Xtrain.drop(['Direction'],axis=1)\n",
    "\n",
    "Xtest=data.iloc[1200:1250]\n",
    "test_set=Xtest.drop(['Direction'],axis=1)\n",
    "\n",
    "ytrain=np.asarray(data['Direction'].iloc[199:1199],dtype='int')\n",
    "ytest=np.asarray(data['Direction'].iloc[1200:1250], dtype='int')"
   ]
  },
  {
   "cell_type": "code",
   "execution_count": 20,
   "metadata": {
    "collapsed": false
   },
   "outputs": [],
   "source": [
    "NB=GaussianNB()\n",
    "NB.fit(train_set,ytrain)\n",
    "\n",
    "a=NB.predict_proba(test_set)\n",
    "scores_NB=[i[1] for i in a]\n",
    "#scores_a"
   ]
  },
  {
   "cell_type": "code",
   "execution_count": 21,
   "metadata": {
    "collapsed": false
   },
   "outputs": [],
   "source": [
    "lda=LDA()\n",
    "lda.fit(train_set, ytrain)\n",
    "\n",
    "b=lda.predict_proba(test_set)\n",
    "scores_LDA=[i[1] for i in b]\n",
    "#scores_b"
   ]
  },
  {
   "cell_type": "code",
   "execution_count": 22,
   "metadata": {
    "collapsed": false
   },
   "outputs": [],
   "source": [
    "qda=QDA()\n",
    "qda.fit(train_set, ytrain)\n",
    "\n",
    "c=qda.predict_proba(test_set)\n",
    "scores_QDA=[i[1] for i in c]\n",
    "#scores_c"
   ]
  },
  {
   "cell_type": "code",
   "execution_count": 23,
   "metadata": {
    "collapsed": false
   },
   "outputs": [
    {
     "name": "stdout",
     "output_type": "stream",
     "text": [
      "0.518333333333\n"
     ]
    },
    {
     "data": {
      "image/png": "[encoded data removed]",
      "text/plain": [
       "<matplotlib.figure.Figure at 0xf351fd0>"
      ]
     },
     "metadata": {},
     "output_type": "display_data"
    }
   ],
   "source": [
    "# Compute ROC curve and ROC area for each class\n",
    "fpr, tpr, threshold=roc_curve(ytest, scores_NB)\n",
    "plt.plot(fpr, tpr)\n",
    "print roc_auc_score(ytest, scores_NB)"
   ]
  },
  {
   "cell_type": "code",
   "execution_count": 24,
   "metadata": {
    "collapsed": false
   },
   "outputs": [
    {
     "name": "stdout",
     "output_type": "stream",
     "text": [
      "0.518333333333\n"
     ]
    },
    {
     "data": {
      "image/png": "[encoded data removed]",
      "text/plain": [
       "<matplotlib.figure.Figure at 0xe749240>"
      ]
     },
     "metadata": {},
     "output_type": "display_data"
    }
   ],
   "source": [
    "fpr, tpr, threshold=roc_curve(ytest, scores_LDA)\n",
    "plt.plot(fpr, tpr)\n",
    "print roc_auc_score(ytest, scores_LDA)"
   ]
  },
  {
   "cell_type": "code",
   "execution_count": 25,
   "metadata": {
    "collapsed": false
   },
   "outputs": [
    {
     "name": "stdout",
     "output_type": "stream",
     "text": [
      "0.63\n"
     ]
    },
    {
     "data": {
      "image/png": "[encoded data removed]",
      "text/plain": [
       "<matplotlib.figure.Figure at 0xf370198>"
      ]
     },
     "metadata": {},
     "output_type": "display_data"
    }
   ],
   "source": [
    "fpr, tpr, threshold=roc_curve(ytest, scores_QDA)\n",
    "plt.plot(fpr, tpr)\n",
    "print roc_auc_score(ytest, scores_QDA)"
   ]
  },
  {
   "cell_type": "markdown",
   "metadata": {},
   "source": [
    "The QDA scores are the most precise method of predicting stock prices in this example, since the area under the curve is much more than 0.5.  Naive Bayes and LDA are tied at a lower precision.  This could be because the separator between 'Up' and 'Down' is not perfectly linear."
   ]
  },
  {
   "cell_type": "code",
   "execution_count": 26,
   "metadata": {
    "collapsed": false
   },
   "outputs": [],
   "source": [
    "Xtrain=data.iloc[1099:1199]\n",
    "train_set=Xtrain.drop(['Direction'],axis=1)\n",
    "\n",
    "Xtest=data.iloc[1200:1250]\n",
    "test_set=Xtest.drop(['Direction'],axis=1)\n",
    "\n",
    "ytrain=np.asarray(data['Direction'].iloc[1099:1199],dtype='int')\n",
    "ytest=np.asarray(data['Direction'].iloc[1200:1250], dtype='int')"
   ]
  },
  {
   "cell_type": "code",
   "execution_count": 27,
   "metadata": {
    "collapsed": true
   },
   "outputs": [],
   "source": [
    "NB=GaussianNB()\n",
    "NB.fit(train_set,ytrain)\n",
    "\n",
    "a=NB.predict_proba(test_set)\n",
    "scores_NB=[i[1] for i in a]\n",
    "\n",
    "lda=LDA()\n",
    "lda.fit(train_set, ytrain)\n",
    "\n",
    "b=lda.predict_proba(test_set)\n",
    "scores_LDA=[i[1] for i in b]\n",
    "\n",
    "qda=QDA()\n",
    "qda.fit(train_set, ytrain)\n",
    "\n",
    "c=qda.predict_proba(test_set)\n",
    "scores_QDA=[i[1] for i in c]\n"
   ]
  },
  {
   "cell_type": "code",
   "execution_count": 28,
   "metadata": {
    "collapsed": false
   },
   "outputs": [
    {
     "name": "stdout",
     "output_type": "stream",
     "text": [
      "0.505\n"
     ]
    },
    {
     "data": {
      "image/png": "[encoded data removed]",
      "text/plain": [
       "<matplotlib.figure.Figure at 0xf54d2b0>"
      ]
     },
     "metadata": {},
     "output_type": "display_data"
    }
   ],
   "source": [
    "fpr, tpr, threshold=roc_curve(ytest, scores_NB)\n",
    "plt.plot(fpr, tpr)\n",
    "print roc_auc_score(ytest, scores_NB)"
   ]
  },
  {
   "cell_type": "code",
   "execution_count": 29,
   "metadata": {
    "collapsed": false
   },
   "outputs": [
    {
     "name": "stdout",
     "output_type": "stream",
     "text": [
      "0.421666666667\n"
     ]
    },
    {
     "data": {
      "image/png": "[encoded data removed]",
      "text/plain": [
       "<matplotlib.figure.Figure at 0xf768828>"
      ]
     },
     "metadata": {},
     "output_type": "display_data"
    }
   ],
   "source": [
    "fpr, tpr, threshold=roc_curve(ytest, scores_LDA)\n",
    "plt.plot(fpr, tpr)\n",
    "print roc_auc_score(ytest, scores_LDA)"
   ]
  },
  {
   "cell_type": "code",
   "execution_count": 30,
   "metadata": {
    "collapsed": false
   },
   "outputs": [
    {
     "name": "stdout",
     "output_type": "stream",
     "text": [
      "0.511666666667\n"
     ]
    },
    {
     "data": {
      "image/png": "[encoded data removed]",
      "text/plain": [
       "<matplotlib.figure.Figure at 0xf942470>"
      ]
     },
     "metadata": {},
     "output_type": "display_data"
    }
   ],
   "source": [
    "fpr, tpr, threshold=roc_curve(ytest, scores_QDA)\n",
    "plt.plot(fpr, tpr)\n",
    "print roc_auc_score(ytest, scores_QDA)"
   ]
  },
  {
   "cell_type": "markdown",
   "metadata": {},
   "source": [
    "Since we are training these models with fewer data points, it makes sense for their accuracies to be lower.  Once again, QDA was the most accurate, followed by Naive Bayes and LDA."
   ]
  },
  {
   "cell_type": "markdown",
   "metadata": {},
   "source": [
    "# Question 5 - Logistic Regression (15pts)\n",
    "\n",
    "In this question we will be predicting mile per gallon (mpg) for Auto data set. ('Auto.csv' in Canvas)\n",
    "1. Convert mpg to a binary variable mpg01 which is 1 if had an mpg is greater than median mpg and zero otherwise\n",
    "2. Split the data into training and test. Use 42 as random seed and use 1/3rd of the data for testing. Our y variable is mpg01 and X matrix includes all the other variables except mpg01.\n",
    "3. Train a logistic regression with almost no regularization (pass l2 (ridge) to penalty and 1,000,000 to the C parameter which is the inverse of regularization strength lambda. This essentially does l2 regularization but applies very little weight to the penalty term) and report the [confusion matrix](http://scikit-learn.org/stable/modules/generated/sklearn.metrics.confusion_matrix.html) on the test data. Also report the accuracy for the \"mpg01 = 0\" class, the \"mpg01 = 1\" class, and the average per-class accuracy on the test data. Average per-class accuracy is described in this [post](http://rasbt.github.io/mlxtend/user_guide/evaluate/scoring/). You can use your confusion matrix to calculate this.\n",
    "4. Repeat step 3 except use l2 penalty with Cs of [0.001,0.01, 0.1, 1, 10 ,100, 1000]. You will want to use k-fold cross validation to select the best parameter. To evaluate which parameter is best, maximize the average per-class accuracy. To help with this task, check out [GridSearchCV](http://scikit-learn.org/stable/modules/generated/sklearn.model_selection.GridSearchCV.html#sklearn.model_selection.GridSearchCV) and how to make your own [custom scorer](http://scikit-learn.org/stable/modules/model_evaluation.html).\n",
    "5. Repeat question 4 except use l1 instead of l2 as the penalty type, use Cs of  [0.001, 0.01, ..., 1000]\n",
    "6. Which model produces the best average per-class accuracy? Why do you think this is the case? How do the models handle the different classes, and why is this so?"
   ]
  },
  {
   "cell_type": "markdown",
   "metadata": {},
   "source": [
    "Following code will load and clean the dataset and load some useful functions"
   ]
  },
  {
   "cell_type": "code",
   "execution_count": 455,
   "metadata": {
    "collapsed": false
   },
   "outputs": [
    {
     "data": {
      "text/plain": [
       "22.75"
      ]
     },
     "execution_count": 455,
     "metadata": {},
     "output_type": "execute_result"
    }
   ],
   "source": [
    "import pandas as pd\n",
    "import numpy as np\n",
    "\n",
    "from sklearn import cross_validation\n",
    "# from sklearn import model_selection # Use model_selection instead of cross_validation in sklearn version >=0.18\n",
    "from sklearn.linear_model import LogisticRegression\n",
    "from sklearn.metrics import mean_squared_error, confusion_matrix\n",
    "from sklearn.grid_search import GridSearchCV\n",
    "\n",
    "Auto = pd.read_csv('Auto.csv', na_values='?').drop('name',axis = 1).dropna()\n",
    "Auto.head(5)\n",
    "Auto.columns.values\n",
    "np.median(Auto['mpg'])"
   ]
  },
  {
   "cell_type": "code",
   "execution_count": 456,
   "metadata": {
    "collapsed": false
   },
   "outputs": [
    {
     "name": "stderr",
     "output_type": "stream",
     "text": [
      "/Library/Frameworks/Python.framework/Versions/2.7/lib/python2.7/site-packages/ipykernel/__main__.py:2: SettingWithCopyWarning: \n",
      "A value is trying to be set on a copy of a slice from a DataFrame\n",
      "\n",
      "See the caveats in the documentation: http://pandas.pydata.org/pandas-docs/stable/indexing.html#indexing-view-versus-copy\n",
      "  from ipykernel import kernelapp as app\n"
     ]
    },
    {
     "data": {
      "text/html": [
       "<div>\n",
       "<table border=\"1\" class=\"dataframe\">\n",
       "  <thead>\n",
       "    <tr style=\"text-align: right;\">\n",
       "      <th></th>\n",
       "      <th>mpg</th>\n",
       "      <th>cylinders</th>\n",
       "      <th>displacement</th>\n",
       "      <th>horsepower</th>\n",
       "      <th>weight</th>\n",
       "      <th>acceleration</th>\n",
       "      <th>year</th>\n",
       "      <th>origin</th>\n",
       "      <th>mpg01</th>\n",
       "    </tr>\n",
       "  </thead>\n",
       "  <tbody>\n",
       "    <tr>\n",
       "      <th>0</th>\n",
       "      <td>18.0</td>\n",
       "      <td>8</td>\n",
       "      <td>307.0</td>\n",
       "      <td>130.0</td>\n",
       "      <td>3504</td>\n",
       "      <td>12.0</td>\n",
       "      <td>70</td>\n",
       "      <td>1</td>\n",
       "      <td>0.0</td>\n",
       "    </tr>\n",
       "    <tr>\n",
       "      <th>1</th>\n",
       "      <td>15.0</td>\n",
       "      <td>8</td>\n",
       "      <td>350.0</td>\n",
       "      <td>165.0</td>\n",
       "      <td>3693</td>\n",
       "      <td>11.5</td>\n",
       "      <td>70</td>\n",
       "      <td>1</td>\n",
       "      <td>0.0</td>\n",
       "    </tr>\n",
       "    <tr>\n",
       "      <th>2</th>\n",
       "      <td>18.0</td>\n",
       "      <td>8</td>\n",
       "      <td>318.0</td>\n",
       "      <td>150.0</td>\n",
       "      <td>3436</td>\n",
       "      <td>11.0</td>\n",
       "      <td>70</td>\n",
       "      <td>1</td>\n",
       "      <td>0.0</td>\n",
       "    </tr>\n",
       "    <tr>\n",
       "      <th>3</th>\n",
       "      <td>16.0</td>\n",
       "      <td>8</td>\n",
       "      <td>304.0</td>\n",
       "      <td>150.0</td>\n",
       "      <td>3433</td>\n",
       "      <td>12.0</td>\n",
       "      <td>70</td>\n",
       "      <td>1</td>\n",
       "      <td>0.0</td>\n",
       "    </tr>\n",
       "    <tr>\n",
       "      <th>4</th>\n",
       "      <td>17.0</td>\n",
       "      <td>8</td>\n",
       "      <td>302.0</td>\n",
       "      <td>140.0</td>\n",
       "      <td>3449</td>\n",
       "      <td>10.5</td>\n",
       "      <td>70</td>\n",
       "      <td>1</td>\n",
       "      <td>0.0</td>\n",
       "    </tr>\n",
       "    <tr>\n",
       "      <th>5</th>\n",
       "      <td>15.0</td>\n",
       "      <td>8</td>\n",
       "      <td>429.0</td>\n",
       "      <td>198.0</td>\n",
       "      <td>4341</td>\n",
       "      <td>10.0</td>\n",
       "      <td>70</td>\n",
       "      <td>1</td>\n",
       "      <td>0.0</td>\n",
       "    </tr>\n",
       "    <tr>\n",
       "      <th>6</th>\n",
       "      <td>14.0</td>\n",
       "      <td>8</td>\n",
       "      <td>454.0</td>\n",
       "      <td>220.0</td>\n",
       "      <td>4354</td>\n",
       "      <td>9.0</td>\n",
       "      <td>70</td>\n",
       "      <td>1</td>\n",
       "      <td>0.0</td>\n",
       "    </tr>\n",
       "    <tr>\n",
       "      <th>7</th>\n",
       "      <td>14.0</td>\n",
       "      <td>8</td>\n",
       "      <td>440.0</td>\n",
       "      <td>215.0</td>\n",
       "      <td>4312</td>\n",
       "      <td>8.5</td>\n",
       "      <td>70</td>\n",
       "      <td>1</td>\n",
       "      <td>0.0</td>\n",
       "    </tr>\n",
       "    <tr>\n",
       "      <th>8</th>\n",
       "      <td>14.0</td>\n",
       "      <td>8</td>\n",
       "      <td>455.0</td>\n",
       "      <td>225.0</td>\n",
       "      <td>4425</td>\n",
       "      <td>10.0</td>\n",
       "      <td>70</td>\n",
       "      <td>1</td>\n",
       "      <td>0.0</td>\n",
       "    </tr>\n",
       "    <tr>\n",
       "      <th>9</th>\n",
       "      <td>15.0</td>\n",
       "      <td>8</td>\n",
       "      <td>390.0</td>\n",
       "      <td>190.0</td>\n",
       "      <td>3850</td>\n",
       "      <td>8.5</td>\n",
       "      <td>70</td>\n",
       "      <td>1</td>\n",
       "      <td>0.0</td>\n",
       "    </tr>\n",
       "  </tbody>\n",
       "</table>\n",
       "</div>"
      ],
      "text/plain": [
       "    mpg  cylinders  displacement  horsepower  weight  acceleration  year  \\\n",
       "0  18.0          8         307.0       130.0    3504          12.0    70   \n",
       "1  15.0          8         350.0       165.0    3693          11.5    70   \n",
       "2  18.0          8         318.0       150.0    3436          11.0    70   \n",
       "3  16.0          8         304.0       150.0    3433          12.0    70   \n",
       "4  17.0          8         302.0       140.0    3449          10.5    70   \n",
       "5  15.0          8         429.0       198.0    4341          10.0    70   \n",
       "6  14.0          8         454.0       220.0    4354           9.0    70   \n",
       "7  14.0          8         440.0       215.0    4312           8.5    70   \n",
       "8  14.0          8         455.0       225.0    4425          10.0    70   \n",
       "9  15.0          8         390.0       190.0    3850           8.5    70   \n",
       "\n",
       "   origin  mpg01  \n",
       "0       1    0.0  \n",
       "1       1    0.0  \n",
       "2       1    0.0  \n",
       "3       1    0.0  \n",
       "4       1    0.0  \n",
       "5       1    0.0  \n",
       "6       1    0.0  \n",
       "7       1    0.0  \n",
       "8       1    0.0  \n",
       "9       1    0.0  "
      ]
     },
     "execution_count": 456,
     "metadata": {},
     "output_type": "execute_result"
    }
   ],
   "source": [
    "Auto['mpg01'] = 0.0\n",
    "Auto['mpg01'][Auto['mpg'] > np.median(Auto['mpg'])] = 1.0\n",
    "Auto[:10]"
   ]
  },
  {
   "cell_type": "code",
   "execution_count": 33,
   "metadata": {
    "collapsed": false
   },
   "outputs": [],
   "source": [
    "y = Auto['mpg01']\n",
    "first_X = Auto.drop('mpg',axis=1)\n",
    "X=first_X.drop('mpg01', axis=1)\n",
    "\n",
    "X_train, X_test, y_train, y_test = train_test_split(X,y,test_size = 0.33, random_state=42)"
   ]
  },
  {
   "cell_type": "code",
   "execution_count": 34,
   "metadata": {
    "collapsed": false
   },
   "outputs": [
    {
     "data": {
      "text/plain": [
       "array([[55, 15],\n",
       "       [ 2, 58]])"
      ]
     },
     "execution_count": 34,
     "metadata": {},
     "output_type": "execute_result"
    }
   ],
   "source": [
    "Log1=LogisticRegression(C=1000000)\n",
    "Log1.fit(X_train, y_train)\n",
    "pred=Log1.predict(X_test)\n",
    "actual=y_test\n",
    "confusion_matrix(actual, pred)"
   ]
  },
  {
   "cell_type": "code",
   "execution_count": 35,
   "metadata": {
    "collapsed": false
   },
   "outputs": [
    {
     "data": {
      "text/plain": [
       "0.13076923076923078"
      ]
     },
     "execution_count": 35,
     "metadata": {},
     "output_type": "execute_result"
    }
   ],
   "source": [
    "mean_squared_error(actual, pred)"
   ]
  },
  {
   "cell_type": "markdown",
   "metadata": {},
   "source": [
    "accuracy score class=1: 58/(58+15)=58/73=79.45%\n",
    "accuracy score class=0: 55/57=96.49%\n",
    "average per class: (55+58)/(17+55+58)=86.92%"
   ]
  },
  {
   "cell_type": "code",
   "execution_count": 36,
   "metadata": {
    "collapsed": false
   },
   "outputs": [
    {
     "data": {
      "text/plain": [
       "GridSearchCV(cv=5, error_score='raise',\n",
       "       estimator=LogisticRegression(C=1.0, class_weight=None, dual=False, fit_intercept=True,\n",
       "          intercept_scaling=1, max_iter=100, multi_class='ovr', n_jobs=1,\n",
       "          penalty='l2', random_state=None, solver='liblinear', tol=0.0001,\n",
       "          verbose=0, warm_start=False),\n",
       "       fit_params={}, iid=True, n_jobs=1,\n",
       "       param_grid={'C': [0.001, 0.01, 0.1, 1, 10, 100, 1000]},\n",
       "       pre_dispatch='2*n_jobs', refit=True,\n",
       "       scoring=make_scorer(accuracy_score), verbose=0)"
      ]
     },
     "execution_count": 36,
     "metadata": {},
     "output_type": "execute_result"
    }
   ],
   "source": [
    "from sklearn.metrics import accuracy_score, make_scorer\n",
    "\n",
    "parameters = {'C':[0.001, 0.01, 0.1, 1, 10, 100, 1000]}\n",
    "\n",
    "avg_per_class=make_scorer(accuracy_score, greater_is_better=True)\n",
    "\n",
    "clf = GridSearchCV(LogisticRegression(), parameters, cv=5, scoring=avg_per_class)\n",
    "clf.fit(X_train, y_train)"
   ]
  },
  {
   "cell_type": "code",
   "execution_count": 37,
   "metadata": {
    "collapsed": false
   },
   "outputs": [
    {
     "name": "stdout",
     "output_type": "stream",
     "text": [
      "LogisticRegression(C=0.01, class_weight=None, dual=False, fit_intercept=True,\n",
      "          intercept_scaling=1, max_iter=100, multi_class='ovr', n_jobs=1,\n",
      "          penalty='l2', random_state=None, solver='liblinear', tol=0.0001,\n",
      "          verbose=0, warm_start=False)\n",
      "0.923664122137\n"
     ]
    }
   ],
   "source": [
    "print clf.best_estimator_\n",
    "print clf.best_score_"
   ]
  },
  {
   "cell_type": "code",
   "execution_count": 38,
   "metadata": {
    "collapsed": false
   },
   "outputs": [
    {
     "data": {
      "text/plain": [
       "GridSearchCV(cv=5, error_score='raise',\n",
       "       estimator=LogisticRegression(C=1.0, class_weight=None, dual=False, fit_intercept=True,\n",
       "          intercept_scaling=1, max_iter=100, multi_class='ovr', n_jobs=1,\n",
       "          penalty='l1', random_state=None, solver='liblinear', tol=0.0001,\n",
       "          verbose=0, warm_start=False),\n",
       "       fit_params={}, iid=True, n_jobs=1,\n",
       "       param_grid={'C': [0.001, 0.01, 0.1, 1, 10, 100, 1000]},\n",
       "       pre_dispatch='2*n_jobs', refit=True,\n",
       "       scoring=make_scorer(accuracy_score), verbose=0)"
      ]
     },
     "execution_count": 38,
     "metadata": {},
     "output_type": "execute_result"
    }
   ],
   "source": [
    "clf2 = GridSearchCV(LogisticRegression(penalty='l1'), parameters, cv=5, scoring=avg_per_class)\n",
    "clf2.fit(X_train, y_train)"
   ]
  },
  {
   "cell_type": "code",
   "execution_count": 39,
   "metadata": {
    "collapsed": false
   },
   "outputs": [
    {
     "name": "stdout",
     "output_type": "stream",
     "text": [
      "LogisticRegression(C=10, class_weight=None, dual=False, fit_intercept=True,\n",
      "          intercept_scaling=1, max_iter=100, multi_class='ovr', n_jobs=1,\n",
      "          penalty='l1', random_state=None, solver='liblinear', tol=0.0001,\n",
      "          verbose=0, warm_start=False)\n",
      "0.927480916031\n"
     ]
    }
   ],
   "source": [
    "print clf2.best_estimator_\n",
    "print clf2.best_score_\n"
   ]
  },
  {
   "cell_type": "code",
   "execution_count": 40,
   "metadata": {
    "collapsed": false
   },
   "outputs": [
    {
     "name": "stdout",
     "output_type": "stream",
     "text": [
      "test set accuracy (C=0.01, penalty=L2):  0.892307692308\n"
     ]
    },
    {
     "data": {
      "text/plain": [
       "array([[56, 14],\n",
       "       [ 0, 60]])"
      ]
     },
     "execution_count": 40,
     "metadata": {},
     "output_type": "execute_result"
    }
   ],
   "source": [
    "#test data accuracy scores\n",
    "test_run=LogisticRegression(C=0.01)\n",
    "test_run.fit(X_train, y_train)\n",
    "pred=test_run.predict(X_test)\n",
    "actual=y_test\n",
    "print 'test set accuracy (C=0.01, penalty=L2): ', 1-np.mean((actual-pred)**2)\n",
    "confusion_matrix(actual, pred)"
   ]
  },
  {
   "cell_type": "code",
   "execution_count": 41,
   "metadata": {
    "collapsed": false
   },
   "outputs": [
    {
     "name": "stdout",
     "output_type": "stream",
     "text": [
      "test set accuracy (C=10, penalty=L1) 0.884615384615\n"
     ]
    },
    {
     "data": {
      "text/plain": [
       "array([[56, 14],\n",
       "       [ 1, 59]])"
      ]
     },
     "execution_count": 41,
     "metadata": {},
     "output_type": "execute_result"
    }
   ],
   "source": [
    "test_run2=LogisticRegression(C=10, penalty='l1')\n",
    "test_run2.fit(X_train, y_train)\n",
    "pred=test_run2.predict(X_test)\n",
    "actual=y_test\n",
    "print 'test set accuracy (C=10, penalty=L1)', 1-np.mean((actual-pred)**2)\n",
    "confusion_matrix(actual, pred)"
   ]
  },
  {
   "cell_type": "code",
   "execution_count": 458,
   "metadata": {
    "collapsed": false
   },
   "outputs": [
    {
     "data": {
      "text/html": [
       "<div>\n",
       "<table border=\"1\" class=\"dataframe\">\n",
       "  <thead>\n",
       "    <tr style=\"text-align: right;\">\n",
       "      <th></th>\n",
       "      <th>mpg</th>\n",
       "      <th>cylinders</th>\n",
       "      <th>displacement</th>\n",
       "      <th>horsepower</th>\n",
       "      <th>weight</th>\n",
       "      <th>acceleration</th>\n",
       "      <th>year</th>\n",
       "      <th>origin</th>\n",
       "      <th>mpg01</th>\n",
       "    </tr>\n",
       "  </thead>\n",
       "  <tbody>\n",
       "    <tr>\n",
       "      <th>count</th>\n",
       "      <td>196.000000</td>\n",
       "      <td>196.000000</td>\n",
       "      <td>196.000000</td>\n",
       "      <td>196.000000</td>\n",
       "      <td>196.000000</td>\n",
       "      <td>196.000000</td>\n",
       "      <td>196.000000</td>\n",
       "      <td>196.000000</td>\n",
       "      <td>196.0</td>\n",
       "    </tr>\n",
       "    <tr>\n",
       "      <th>mean</th>\n",
       "      <td>16.921939</td>\n",
       "      <td>6.765306</td>\n",
       "      <td>273.158163</td>\n",
       "      <td>130.112245</td>\n",
       "      <td>3620.403061</td>\n",
       "      <td>14.585714</td>\n",
       "      <td>74.397959</td>\n",
       "      <td>1.163265</td>\n",
       "      <td>0.0</td>\n",
       "    </tr>\n",
       "    <tr>\n",
       "      <th>std</th>\n",
       "      <td>3.143749</td>\n",
       "      <td>1.420011</td>\n",
       "      <td>89.523986</td>\n",
       "      <td>37.355639</td>\n",
       "      <td>676.932187</td>\n",
       "      <td>2.685154</td>\n",
       "      <td>2.970763</td>\n",
       "      <td>0.479185</td>\n",
       "      <td>0.0</td>\n",
       "    </tr>\n",
       "    <tr>\n",
       "      <th>min</th>\n",
       "      <td>9.000000</td>\n",
       "      <td>3.000000</td>\n",
       "      <td>70.000000</td>\n",
       "      <td>72.000000</td>\n",
       "      <td>2124.000000</td>\n",
       "      <td>8.000000</td>\n",
       "      <td>70.000000</td>\n",
       "      <td>1.000000</td>\n",
       "      <td>0.0</td>\n",
       "    </tr>\n",
       "    <tr>\n",
       "      <th>25%</th>\n",
       "      <td>14.000000</td>\n",
       "      <td>6.000000</td>\n",
       "      <td>225.000000</td>\n",
       "      <td>100.000000</td>\n",
       "      <td>3139.750000</td>\n",
       "      <td>12.950000</td>\n",
       "      <td>72.000000</td>\n",
       "      <td>1.000000</td>\n",
       "      <td>0.0</td>\n",
       "    </tr>\n",
       "    <tr>\n",
       "      <th>50%</th>\n",
       "      <td>17.000000</td>\n",
       "      <td>8.000000</td>\n",
       "      <td>261.000000</td>\n",
       "      <td>125.000000</td>\n",
       "      <td>3607.000000</td>\n",
       "      <td>14.500000</td>\n",
       "      <td>74.000000</td>\n",
       "      <td>1.000000</td>\n",
       "      <td>0.0</td>\n",
       "    </tr>\n",
       "    <tr>\n",
       "      <th>75%</th>\n",
       "      <td>19.250000</td>\n",
       "      <td>8.000000</td>\n",
       "      <td>350.000000</td>\n",
       "      <td>150.000000</td>\n",
       "      <td>4156.750000</td>\n",
       "      <td>16.250000</td>\n",
       "      <td>77.000000</td>\n",
       "      <td>1.000000</td>\n",
       "      <td>0.0</td>\n",
       "    </tr>\n",
       "    <tr>\n",
       "      <th>max</th>\n",
       "      <td>22.500000</td>\n",
       "      <td>8.000000</td>\n",
       "      <td>455.000000</td>\n",
       "      <td>230.000000</td>\n",
       "      <td>5140.000000</td>\n",
       "      <td>21.900000</td>\n",
       "      <td>82.000000</td>\n",
       "      <td>3.000000</td>\n",
       "      <td>0.0</td>\n",
       "    </tr>\n",
       "  </tbody>\n",
       "</table>\n",
       "</div>"
      ],
      "text/plain": [
       "              mpg   cylinders  displacement  horsepower       weight  \\\n",
       "count  196.000000  196.000000    196.000000  196.000000   196.000000   \n",
       "mean    16.921939    6.765306    273.158163  130.112245  3620.403061   \n",
       "std      3.143749    1.420011     89.523986   37.355639   676.932187   \n",
       "min      9.000000    3.000000     70.000000   72.000000  2124.000000   \n",
       "25%     14.000000    6.000000    225.000000  100.000000  3139.750000   \n",
       "50%     17.000000    8.000000    261.000000  125.000000  3607.000000   \n",
       "75%     19.250000    8.000000    350.000000  150.000000  4156.750000   \n",
       "max     22.500000    8.000000    455.000000  230.000000  5140.000000   \n",
       "\n",
       "       acceleration        year      origin  mpg01  \n",
       "count    196.000000  196.000000  196.000000  196.0  \n",
       "mean      14.585714   74.397959    1.163265    0.0  \n",
       "std        2.685154    2.970763    0.479185    0.0  \n",
       "min        8.000000   70.000000    1.000000    0.0  \n",
       "25%       12.950000   72.000000    1.000000    0.0  \n",
       "50%       14.500000   74.000000    1.000000    0.0  \n",
       "75%       16.250000   77.000000    1.000000    0.0  \n",
       "max       21.900000   82.000000    3.000000    0.0  "
      ]
     },
     "execution_count": 458,
     "metadata": {},
     "output_type": "execute_result"
    }
   ],
   "source": [
    "Auto[Auto['mpg']<22.75].describe()"
   ]
  },
  {
   "cell_type": "markdown",
   "metadata": {},
   "source": [
    "The model with the highest accuracy score uses 'L2' penalty, and a 'C' of 0.01.  It predicts the '1' class with 100% accuracy, and the '0' class with 80% accuracy. This could be because of the diversity of displacement, weight, and horsepower in the '0' class, which could effect the miles per gallon, and lead to a missed prediction."
   ]
  },
  {
   "cell_type": "markdown",
   "metadata": {
    "collapsed": true
   },
   "source": [
    "# Question 6: House Prices (kaggle competition) (25 pts)\n",
    "\n",
    "In this problem, we are going to explore a kaggle competition: [House Prices](https://www.kaggle.com/c/house-prices-advanced-regression-techniques). Your goal is to obtain the best score you can in this competition. This is an ongoing competition, and you have the opportunity to win the prize money! \n",
    "\n",
    "The first step is to make a Kaggle account. Then find the House Prices competition and read the competition details and the description of the dataset. You may find this [article](https://ww2.amstat.org/publications/jse/v19n3/decock.pdf) useful.\n",
    "\n",
    "Your work should meet the following requirements:\n",
    "\n",
    "1. Data Preprocessing. \n",
    " * Conduct some data preprocessing. (Hint: see if there is any skewed features and consider applying suitable transformation techniques to make them more \"normal\").\n",
    " * Impute the missing values (if any).\n",
    "2. Predictive Models. \n",
    " * You have to create at least three models: simple linear regression, Lasso and Ridge regression and multilayer perceptron. You may consider creating an ensemble of these models as well (optional). For Lasso and Ridge regression, optimize the alphas using cross validation. You may try other predictive models to get better scores (optional).\n",
    "3. Evaluation: submit your model to kaggle submission site and report the public score.\n",
    "\n",
    "Briefly describe your work on each of these steps. Explain (very briefly) what approaches you tried, what worked and what did not work. Mention your team's kaggle name and include a screen shot of your public submission score. Finally, try your best to win this competition!"
   ]
  },
  {
   "cell_type": "code",
   "execution_count": 18,
   "metadata": {
    "collapsed": true
   },
   "outputs": [],
   "source": [
    "import pandas as pd\n",
    "import numpy as np\n",
    "from sklearn.model_selection import train_test_split"
   ]
  },
  {
   "cell_type": "code",
   "execution_count": 16,
   "metadata": {
    "collapsed": false
   },
   "outputs": [
    {
     "data": {
      "text/html": [
       "<div>\n",
       "<table border=\"1\" class=\"dataframe\">\n",
       "  <thead>\n",
       "    <tr style=\"text-align: right;\">\n",
       "      <th></th>\n",
       "      <th>Id</th>\n",
       "      <th>MSSubClass</th>\n",
       "      <th>LotFrontage</th>\n",
       "      <th>LotArea</th>\n",
       "      <th>OverallQual</th>\n",
       "      <th>OverallCond</th>\n",
       "      <th>YearBuilt</th>\n",
       "      <th>YearRemodAdd</th>\n",
       "      <th>MasVnrArea</th>\n",
       "      <th>BsmtFinSF1</th>\n",
       "      <th>...</th>\n",
       "      <th>SaleType_ConLw</th>\n",
       "      <th>SaleType_New</th>\n",
       "      <th>SaleType_Oth</th>\n",
       "      <th>SaleType_WD</th>\n",
       "      <th>SaleCondition_Abnorml</th>\n",
       "      <th>SaleCondition_AdjLand</th>\n",
       "      <th>SaleCondition_Alloca</th>\n",
       "      <th>SaleCondition_Family</th>\n",
       "      <th>SaleCondition_Normal</th>\n",
       "      <th>SaleCondition_Partial</th>\n",
       "    </tr>\n",
       "  </thead>\n",
       "  <tbody>\n",
       "    <tr>\n",
       "      <th>0</th>\n",
       "      <td>1</td>\n",
       "      <td>60</td>\n",
       "      <td>65.0</td>\n",
       "      <td>8450</td>\n",
       "      <td>7</td>\n",
       "      <td>5</td>\n",
       "      <td>7.602401</td>\n",
       "      <td>2003</td>\n",
       "      <td>196.0</td>\n",
       "      <td>706</td>\n",
       "      <td>...</td>\n",
       "      <td>0.0</td>\n",
       "      <td>0.0</td>\n",
       "      <td>0.0</td>\n",
       "      <td>1.0</td>\n",
       "      <td>0.0</td>\n",
       "      <td>0.0</td>\n",
       "      <td>0.0</td>\n",
       "      <td>0.0</td>\n",
       "      <td>1.0</td>\n",
       "      <td>0.0</td>\n",
       "    </tr>\n",
       "    <tr>\n",
       "      <th>1</th>\n",
       "      <td>2</td>\n",
       "      <td>20</td>\n",
       "      <td>80.0</td>\n",
       "      <td>9600</td>\n",
       "      <td>6</td>\n",
       "      <td>8</td>\n",
       "      <td>7.588830</td>\n",
       "      <td>1976</td>\n",
       "      <td>0.0</td>\n",
       "      <td>978</td>\n",
       "      <td>...</td>\n",
       "      <td>0.0</td>\n",
       "      <td>0.0</td>\n",
       "      <td>0.0</td>\n",
       "      <td>1.0</td>\n",
       "      <td>0.0</td>\n",
       "      <td>0.0</td>\n",
       "      <td>0.0</td>\n",
       "      <td>0.0</td>\n",
       "      <td>1.0</td>\n",
       "      <td>0.0</td>\n",
       "    </tr>\n",
       "    <tr>\n",
       "      <th>2</th>\n",
       "      <td>3</td>\n",
       "      <td>60</td>\n",
       "      <td>68.0</td>\n",
       "      <td>11250</td>\n",
       "      <td>7</td>\n",
       "      <td>5</td>\n",
       "      <td>7.601402</td>\n",
       "      <td>2002</td>\n",
       "      <td>162.0</td>\n",
       "      <td>486</td>\n",
       "      <td>...</td>\n",
       "      <td>0.0</td>\n",
       "      <td>0.0</td>\n",
       "      <td>0.0</td>\n",
       "      <td>1.0</td>\n",
       "      <td>0.0</td>\n",
       "      <td>0.0</td>\n",
       "      <td>0.0</td>\n",
       "      <td>0.0</td>\n",
       "      <td>1.0</td>\n",
       "      <td>0.0</td>\n",
       "    </tr>\n",
       "    <tr>\n",
       "      <th>3</th>\n",
       "      <td>4</td>\n",
       "      <td>70</td>\n",
       "      <td>60.0</td>\n",
       "      <td>9550</td>\n",
       "      <td>7</td>\n",
       "      <td>5</td>\n",
       "      <td>7.557473</td>\n",
       "      <td>1970</td>\n",
       "      <td>0.0</td>\n",
       "      <td>216</td>\n",
       "      <td>...</td>\n",
       "      <td>0.0</td>\n",
       "      <td>0.0</td>\n",
       "      <td>0.0</td>\n",
       "      <td>1.0</td>\n",
       "      <td>1.0</td>\n",
       "      <td>0.0</td>\n",
       "      <td>0.0</td>\n",
       "      <td>0.0</td>\n",
       "      <td>0.0</td>\n",
       "      <td>0.0</td>\n",
       "    </tr>\n",
       "    <tr>\n",
       "      <th>4</th>\n",
       "      <td>5</td>\n",
       "      <td>60</td>\n",
       "      <td>84.0</td>\n",
       "      <td>14260</td>\n",
       "      <td>8</td>\n",
       "      <td>5</td>\n",
       "      <td>7.600902</td>\n",
       "      <td>2000</td>\n",
       "      <td>350.0</td>\n",
       "      <td>655</td>\n",
       "      <td>...</td>\n",
       "      <td>0.0</td>\n",
       "      <td>0.0</td>\n",
       "      <td>0.0</td>\n",
       "      <td>1.0</td>\n",
       "      <td>0.0</td>\n",
       "      <td>0.0</td>\n",
       "      <td>0.0</td>\n",
       "      <td>0.0</td>\n",
       "      <td>1.0</td>\n",
       "      <td>0.0</td>\n",
       "    </tr>\n",
       "    <tr>\n",
       "      <th>5</th>\n",
       "      <td>6</td>\n",
       "      <td>50</td>\n",
       "      <td>85.0</td>\n",
       "      <td>14115</td>\n",
       "      <td>5</td>\n",
       "      <td>5</td>\n",
       "      <td>7.597396</td>\n",
       "      <td>1995</td>\n",
       "      <td>0.0</td>\n",
       "      <td>732</td>\n",
       "      <td>...</td>\n",
       "      <td>0.0</td>\n",
       "      <td>0.0</td>\n",
       "      <td>0.0</td>\n",
       "      <td>1.0</td>\n",
       "      <td>0.0</td>\n",
       "      <td>0.0</td>\n",
       "      <td>0.0</td>\n",
       "      <td>0.0</td>\n",
       "      <td>1.0</td>\n",
       "      <td>0.0</td>\n",
       "    </tr>\n",
       "    <tr>\n",
       "      <th>6</th>\n",
       "      <td>7</td>\n",
       "      <td>20</td>\n",
       "      <td>75.0</td>\n",
       "      <td>10084</td>\n",
       "      <td>8</td>\n",
       "      <td>5</td>\n",
       "      <td>7.602900</td>\n",
       "      <td>2005</td>\n",
       "      <td>186.0</td>\n",
       "      <td>1369</td>\n",
       "      <td>...</td>\n",
       "      <td>0.0</td>\n",
       "      <td>0.0</td>\n",
       "      <td>0.0</td>\n",
       "      <td>1.0</td>\n",
       "      <td>0.0</td>\n",
       "      <td>0.0</td>\n",
       "      <td>0.0</td>\n",
       "      <td>0.0</td>\n",
       "      <td>1.0</td>\n",
       "      <td>0.0</td>\n",
       "    </tr>\n",
       "    <tr>\n",
       "      <th>8</th>\n",
       "      <td>9</td>\n",
       "      <td>50</td>\n",
       "      <td>51.0</td>\n",
       "      <td>6120</td>\n",
       "      <td>7</td>\n",
       "      <td>5</td>\n",
       "      <td>7.565793</td>\n",
       "      <td>1950</td>\n",
       "      <td>0.0</td>\n",
       "      <td>0</td>\n",
       "      <td>...</td>\n",
       "      <td>0.0</td>\n",
       "      <td>0.0</td>\n",
       "      <td>0.0</td>\n",
       "      <td>1.0</td>\n",
       "      <td>1.0</td>\n",
       "      <td>0.0</td>\n",
       "      <td>0.0</td>\n",
       "      <td>0.0</td>\n",
       "      <td>0.0</td>\n",
       "      <td>0.0</td>\n",
       "    </tr>\n",
       "    <tr>\n",
       "      <th>9</th>\n",
       "      <td>10</td>\n",
       "      <td>190</td>\n",
       "      <td>50.0</td>\n",
       "      <td>7420</td>\n",
       "      <td>5</td>\n",
       "      <td>6</td>\n",
       "      <td>7.569928</td>\n",
       "      <td>1950</td>\n",
       "      <td>0.0</td>\n",
       "      <td>851</td>\n",
       "      <td>...</td>\n",
       "      <td>0.0</td>\n",
       "      <td>0.0</td>\n",
       "      <td>0.0</td>\n",
       "      <td>1.0</td>\n",
       "      <td>0.0</td>\n",
       "      <td>0.0</td>\n",
       "      <td>0.0</td>\n",
       "      <td>0.0</td>\n",
       "      <td>1.0</td>\n",
       "      <td>0.0</td>\n",
       "    </tr>\n",
       "    <tr>\n",
       "      <th>10</th>\n",
       "      <td>11</td>\n",
       "      <td>20</td>\n",
       "      <td>70.0</td>\n",
       "      <td>11200</td>\n",
       "      <td>5</td>\n",
       "      <td>5</td>\n",
       "      <td>7.583248</td>\n",
       "      <td>1965</td>\n",
       "      <td>0.0</td>\n",
       "      <td>906</td>\n",
       "      <td>...</td>\n",
       "      <td>0.0</td>\n",
       "      <td>0.0</td>\n",
       "      <td>0.0</td>\n",
       "      <td>1.0</td>\n",
       "      <td>0.0</td>\n",
       "      <td>0.0</td>\n",
       "      <td>0.0</td>\n",
       "      <td>0.0</td>\n",
       "      <td>1.0</td>\n",
       "      <td>0.0</td>\n",
       "    </tr>\n",
       "  </tbody>\n",
       "</table>\n",
       "<p>10 rows × 290 columns</p>\n",
       "</div>"
      ],
      "text/plain": [
       "    Id  MSSubClass  LotFrontage  LotArea  OverallQual  OverallCond  YearBuilt  \\\n",
       "0    1          60         65.0     8450            7            5   7.602401   \n",
       "1    2          20         80.0     9600            6            8   7.588830   \n",
       "2    3          60         68.0    11250            7            5   7.601402   \n",
       "3    4          70         60.0     9550            7            5   7.557473   \n",
       "4    5          60         84.0    14260            8            5   7.600902   \n",
       "5    6          50         85.0    14115            5            5   7.597396   \n",
       "6    7          20         75.0    10084            8            5   7.602900   \n",
       "8    9          50         51.0     6120            7            5   7.565793   \n",
       "9   10         190         50.0     7420            5            6   7.569928   \n",
       "10  11          20         70.0    11200            5            5   7.583248   \n",
       "\n",
       "    YearRemodAdd  MasVnrArea  BsmtFinSF1          ...            \\\n",
       "0           2003       196.0         706          ...             \n",
       "1           1976         0.0         978          ...             \n",
       "2           2002       162.0         486          ...             \n",
       "3           1970         0.0         216          ...             \n",
       "4           2000       350.0         655          ...             \n",
       "5           1995         0.0         732          ...             \n",
       "6           2005       186.0        1369          ...             \n",
       "8           1950         0.0           0          ...             \n",
       "9           1950         0.0         851          ...             \n",
       "10          1965         0.0         906          ...             \n",
       "\n",
       "    SaleType_ConLw  SaleType_New  SaleType_Oth  SaleType_WD  \\\n",
       "0              0.0           0.0           0.0          1.0   \n",
       "1              0.0           0.0           0.0          1.0   \n",
       "2              0.0           0.0           0.0          1.0   \n",
       "3              0.0           0.0           0.0          1.0   \n",
       "4              0.0           0.0           0.0          1.0   \n",
       "5              0.0           0.0           0.0          1.0   \n",
       "6              0.0           0.0           0.0          1.0   \n",
       "8              0.0           0.0           0.0          1.0   \n",
       "9              0.0           0.0           0.0          1.0   \n",
       "10             0.0           0.0           0.0          1.0   \n",
       "\n",
       "    SaleCondition_Abnorml  SaleCondition_AdjLand  SaleCondition_Alloca  \\\n",
       "0                     0.0                    0.0                   0.0   \n",
       "1                     0.0                    0.0                   0.0   \n",
       "2                     0.0                    0.0                   0.0   \n",
       "3                     1.0                    0.0                   0.0   \n",
       "4                     0.0                    0.0                   0.0   \n",
       "5                     0.0                    0.0                   0.0   \n",
       "6                     0.0                    0.0                   0.0   \n",
       "8                     1.0                    0.0                   0.0   \n",
       "9                     0.0                    0.0                   0.0   \n",
       "10                    0.0                    0.0                   0.0   \n",
       "\n",
       "    SaleCondition_Family  SaleCondition_Normal  SaleCondition_Partial  \n",
       "0                    0.0                   1.0                    0.0  \n",
       "1                    0.0                   1.0                    0.0  \n",
       "2                    0.0                   1.0                    0.0  \n",
       "3                    0.0                   0.0                    0.0  \n",
       "4                    0.0                   1.0                    0.0  \n",
       "5                    0.0                   1.0                    0.0  \n",
       "6                    0.0                   1.0                    0.0  \n",
       "8                    0.0                   0.0                    0.0  \n",
       "9                    0.0                   1.0                    0.0  \n",
       "10                   0.0                   1.0                    0.0  \n",
       "\n",
       "[10 rows x 290 columns]"
      ]
     },
     "execution_count": 16,
     "metadata": {},
     "output_type": "execute_result"
    }
   ],
   "source": [
    "house_data=pd.read_csv('train.csv')\n",
    "house_data.columns.values\n",
    "house_data[:10]\n",
    "with_dummies=pd.get_dummies(house_data).dropna()\n",
    "with_dummies['YearBuilt']=np.log(with_dummies['YearBuilt'])\n",
    "with_dummies[:10]"
   ]
  },
  {
   "cell_type": "code",
   "execution_count": 19,
   "metadata": {
    "collapsed": false
   },
   "outputs": [],
   "source": [
    "from sklearn.linear_model import LinearRegression\n",
    "y = with_dummies['SalePrice']\n",
    "X = with_dummies.drop('SalePrice',axis=1)\n",
    "\n",
    "X_train, X_test, y_train, y_test = train_test_split(X,y,test_size = 0.33, random_state=42)"
   ]
  },
  {
   "cell_type": "markdown",
   "metadata": {},
   "source": [
    "The preprocessing in the cells above converted categorical variables to dummies, dropped the 'NaN' points, and completed a log transformation on the variable 'YearBuilt'."
   ]
  },
  {
   "cell_type": "code",
   "execution_count": 20,
   "metadata": {
    "collapsed": false
   },
   "outputs": [
    {
     "name": "stdout",
     "output_type": "stream",
     "text": [
      "Root mean square error:  167377.06317\n"
     ]
    }
   ],
   "source": [
    "linear=LinearRegression()\n",
    "linear.fit(X_train, y_train)\n",
    "pred=linear.predict(X_test)\n",
    "actual=y_test\n",
    "mean_sq_err=np.mean((actual-pred)**2)\n",
    "print 'Root mean square error: ', np.sqrt(mean_sq_err)"
   ]
  },
  {
   "cell_type": "markdown",
   "metadata": {},
   "source": [
    "Without removing any variables, an OLS regression gave an RMSE of 167,377.06.  We will now try a lasso regression to remove some less important variables."
   ]
  },
  {
   "cell_type": "code",
   "execution_count": 24,
   "metadata": {
    "collapsed": false
   },
   "outputs": [],
   "source": [
    "#run lasso, with 5 fold cross validation to find best lambda, using MSE to score lambdas\n",
    "from sklearn.linear_model import Lasso\n",
    "from sklearn.model_selection import KFold\n",
    "\n",
    "kf=KFold(n_splits=5, random_state=42)\n",
    "\n",
    "\n",
    "alphas = 10**np.linspace(10,-2,100)*0.5\n",
    "\n",
    "scores = []\n",
    "\n",
    "for alpha in alphas:\n",
    "    MSELasso = []\n",
    "    for train, test in kf.split(X_train):\n",
    "        lasso= Lasso(random_state=42, alpha=alpha)\n",
    "        lasso.fit(X_train.iloc[train], y_train.iloc[train])\n",
    "        \n",
    "        pred=lasso.predict(X.iloc[test])\n",
    "        actual=y[test]\n",
    "        \n",
    "        MSE=np.mean((pred-actual)**2)\n",
    "        \n",
    "        MSELasso.append(MSE)\n",
    "    \n",
    "    scores.append((alpha, np.mean(MSELasso)))\n",
    "        \n",
    "best_lambda_lasso = sorted(scores, key=lambda x: x[1])[0][0]"
   ]
  },
  {
   "cell_type": "code",
   "execution_count": 48,
   "metadata": {
    "collapsed": false
   },
   "outputs": [
    {
     "name": "stdout",
     "output_type": "stream",
     "text": [
      "Using our best lambda, we obtained an RMSE of  80503.6948541\n"
     ]
    }
   ],
   "source": [
    "from sklearn.linear_model import Lasso\n",
    "lasso1=Lasso(random_state=42, alpha=best_lambda_lasso, fit_intercept=False)\n",
    "lasso1.fit(X_train, y_train)\n",
    "pred_lasso=lasso1.predict(X_test)\n",
    "print 'Using our best lambda, we obtained an RMSE of ', np.sqrt(np.mean((pred_lasso-y_test)**2))"
   ]
  },
  {
   "cell_type": "code",
   "execution_count": 49,
   "metadata": {
    "collapsed": false
   },
   "outputs": [
    {
     "data": {
      "text/plain": [
       "57487849.769886784"
      ]
     },
     "execution_count": 49,
     "metadata": {},
     "output_type": "execute_result"
    }
   ],
   "source": [
    "best_lambda_lasso"
   ]
  },
  {
   "cell_type": "code",
   "execution_count": 50,
   "metadata": {
    "collapsed": false
   },
   "outputs": [
    {
     "data": {
      "text/plain": [
       "array([  0.        ,   0.        ,   0.        ,   4.60868705,\n",
       "         0.        ,   0.        ,   0.        ,  33.05933675,\n",
       "         0.        ,   0.        ,   0.        ,   0.        ,\n",
       "         0.        ,   0.        ,   0.        ,  -0.        ,\n",
       "        27.01164025,   0.        ,   0.        ,   0.        ,\n",
       "         0.        ,   0.        ,   0.        ,   0.        ,\n",
       "         0.        ,   0.        ,   0.        ,   0.        ,\n",
       "         0.        ,   0.        ,  -0.        ,   0.        ,\n",
       "         0.        ,   0.        ,   0.        ,   0.        ,\n",
       "         0.        ,  -0.        ,   0.        ,  -0.        ,\n",
       "         0.        ,  -0.        ,  -0.        ,   0.        ,\n",
       "        -0.        ,   0.        ,   0.        ,   0.        ,\n",
       "        -0.        ,   0.        ,  -0.        ,   0.        ,\n",
       "        -0.        ,   0.        ,   0.        ,   0.        ,\n",
       "         0.        ,   0.        ,   0.        ,   0.        ,\n",
       "         0.        ,   0.        ,   0.        ,  -0.        ,\n",
       "         0.        ,   0.        ,  -0.        ,  -0.        ,\n",
       "        -0.        ,   0.        ,   0.        ,  -0.        ,\n",
       "         0.        ,  -0.        ,  -0.        ,  -0.        ,\n",
       "        -0.        ,   0.        ,   0.        ,   0.        ,\n",
       "         0.        ,  -0.        ,  -0.        ,  -0.        ,\n",
       "         0.        ,   0.        ,   0.        ,   0.        ,\n",
       "         0.        ,  -0.        ,  -0.        ,   0.        ,\n",
       "         0.        ,   0.        ,  -0.        ,   0.        ,\n",
       "         0.        ,   0.        ,  -0.        ,  -0.        ,\n",
       "         0.        ,   0.        ,   0.        ,   0.        ,\n",
       "         0.        ,  -0.        ,   0.        ,  -0.        ,\n",
       "        -0.        ,   0.        ,   0.        ,  -0.        ,\n",
       "        -0.        ,   0.        ,  -0.        ,   0.        ,\n",
       "         0.        ,   0.        ,   0.        ,  -0.        ,\n",
       "         0.        ,   0.        ,   0.        ,   0.        ,\n",
       "         0.        ,  -0.        ,   0.        ,  -0.        ,\n",
       "         0.        ,  -0.        ,   0.        ,   0.        ,\n",
       "        -0.        ,  -0.        ,   0.        ,  -0.        ,\n",
       "         0.        ,  -0.        ,   0.        ,   0.        ,\n",
       "         0.        ,   0.        ,   0.        ,   0.        ,\n",
       "        -0.        ,   0.        ,  -0.        ,   0.        ,\n",
       "        -0.        ,   0.        ,  -0.        ,  -0.        ,\n",
       "        -0.        ,   0.        ,   0.        ,   0.        ,\n",
       "         0.        ,   0.        ,  -0.        ,   0.        ,\n",
       "        -0.        ,   0.        ,  -0.        ,   0.        ,\n",
       "        -0.        ,   0.        ,   0.        ,   0.        ,\n",
       "         0.        ,  -0.        ,   0.        ,  -0.        ,\n",
       "         0.        ,  -0.        ,   0.        ,   0.        ,\n",
       "         0.        ,  -0.        ,  -0.        ,   0.        ,\n",
       "        -0.        ,  -0.        ,  -0.        ,   0.        ,\n",
       "        -0.        ,   0.        ,  -0.        ,  -0.        ,\n",
       "         0.        ,   0.        ,   0.        ,   0.        ,\n",
       "         0.        ,   0.        ,   0.        ,   0.        ,\n",
       "         0.        ,   0.        ,   0.        ,  -0.        ,\n",
       "         0.        ,   0.        ,   0.        ,   0.        ,\n",
       "         0.        ,  -0.        ,   0.        ,   0.        ,\n",
       "         0.        ,  -0.        ,  -0.        ,  -0.        ,\n",
       "        -0.        ,   0.        ,  -0.        ,   0.        ,\n",
       "        -0.        ,  -0.        ,  -0.        ,   0.        ,\n",
       "        -0.        ,  -0.        ,  -0.        ,   0.        ,\n",
       "         0.        ,   0.        ,  -0.        ,   0.        ,\n",
       "        -0.        ,   0.        ,  -0.        ,  -0.        ,\n",
       "        -0.        ,  -0.        ,   0.        ,   0.        ,\n",
       "         0.        ,   0.        ,   0.        ,  -0.        ,\n",
       "         0.        ,  -0.        ,   0.        ,   0.        ,\n",
       "         0.        ,  -0.        ,  -0.        ,   0.        ,\n",
       "         0.        ,  -0.        ,  -0.        ,  -0.        ,\n",
       "         0.        ,  -0.        ,   0.        ,  -0.        ,\n",
       "        -0.        ,   0.        ,  -0.        ,   0.        ,\n",
       "        -0.        ,  -0.        ,   0.        ,   0.        ,\n",
       "         0.        ,  -0.        ,   0.        ,  -0.        ,\n",
       "         0.        ,  -0.        ,   0.        ,   0.        ,\n",
       "        -0.        ,   0.        ,  -0.        ,   0.        ,\n",
       "         0.        ,  -0.        ,   0.        ,   0.        ,\n",
       "         0.        ,  -0.        ,   0.        ,   0.        ,\n",
       "         0.        ,   0.        ,  -0.        ,   0.        ,   0.        ])"
      ]
     },
     "execution_count": 50,
     "metadata": {},
     "output_type": "execute_result"
    }
   ],
   "source": [
    "lasso1.coef_"
   ]
  },
  {
   "cell_type": "code",
   "execution_count": 51,
   "metadata": {
    "collapsed": false
   },
   "outputs": [
    {
     "name": "stdout",
     "output_type": "stream",
     "text": [
      "LotArea\n",
      "YearBuilt\n",
      "GrLivArea\n"
     ]
    }
   ],
   "source": [
    "print with_dummies.columns.values[3]\n",
    "print with_dummies.columns.values[6]\n",
    "print with_dummies.columns.values[16]\n",
    "#These seem to be the only significant variables"
   ]
  },
  {
   "cell_type": "markdown",
   "metadata": {},
   "source": [
    "The above variables seem to be the most significant, so we will run linear regression, ridge, and an MLP on only these variables."
   ]
  },
  {
   "cell_type": "code",
   "execution_count": 26,
   "metadata": {
    "collapsed": false
   },
   "outputs": [],
   "source": [
    "new_df=with_dummies[['LotArea', 'YearBuilt', 'GrLivArea', 'SalePrice']]\n",
    "new_X=new_df.drop('SalePrice', axis=1)\n",
    "new_y=new_df['SalePrice']"
   ]
  },
  {
   "cell_type": "code",
   "execution_count": 27,
   "metadata": {
    "collapsed": false,
    "scrolled": true
   },
   "outputs": [
    {
     "data": {
      "text/html": [
       "<div>\n",
       "<table border=\"1\" class=\"dataframe\">\n",
       "  <thead>\n",
       "    <tr style=\"text-align: right;\">\n",
       "      <th></th>\n",
       "      <th>LotArea</th>\n",
       "      <th>YearBuilt</th>\n",
       "      <th>GrLivArea</th>\n",
       "      <th>SalePrice</th>\n",
       "    </tr>\n",
       "  </thead>\n",
       "  <tbody>\n",
       "    <tr>\n",
       "      <th>0</th>\n",
       "      <td>8450</td>\n",
       "      <td>7.602401</td>\n",
       "      <td>1710</td>\n",
       "      <td>208500</td>\n",
       "    </tr>\n",
       "    <tr>\n",
       "      <th>1</th>\n",
       "      <td>9600</td>\n",
       "      <td>7.588830</td>\n",
       "      <td>1262</td>\n",
       "      <td>181500</td>\n",
       "    </tr>\n",
       "    <tr>\n",
       "      <th>2</th>\n",
       "      <td>11250</td>\n",
       "      <td>7.601402</td>\n",
       "      <td>1786</td>\n",
       "      <td>223500</td>\n",
       "    </tr>\n",
       "    <tr>\n",
       "      <th>3</th>\n",
       "      <td>9550</td>\n",
       "      <td>7.557473</td>\n",
       "      <td>1717</td>\n",
       "      <td>140000</td>\n",
       "    </tr>\n",
       "    <tr>\n",
       "      <th>4</th>\n",
       "      <td>14260</td>\n",
       "      <td>7.600902</td>\n",
       "      <td>2198</td>\n",
       "      <td>250000</td>\n",
       "    </tr>\n",
       "    <tr>\n",
       "      <th>5</th>\n",
       "      <td>14115</td>\n",
       "      <td>7.597396</td>\n",
       "      <td>1362</td>\n",
       "      <td>143000</td>\n",
       "    </tr>\n",
       "    <tr>\n",
       "      <th>6</th>\n",
       "      <td>10084</td>\n",
       "      <td>7.602900</td>\n",
       "      <td>1694</td>\n",
       "      <td>307000</td>\n",
       "    </tr>\n",
       "    <tr>\n",
       "      <th>8</th>\n",
       "      <td>6120</td>\n",
       "      <td>7.565793</td>\n",
       "      <td>1774</td>\n",
       "      <td>129900</td>\n",
       "    </tr>\n",
       "    <tr>\n",
       "      <th>9</th>\n",
       "      <td>7420</td>\n",
       "      <td>7.569928</td>\n",
       "      <td>1077</td>\n",
       "      <td>118000</td>\n",
       "    </tr>\n",
       "    <tr>\n",
       "      <th>10</th>\n",
       "      <td>11200</td>\n",
       "      <td>7.583248</td>\n",
       "      <td>1040</td>\n",
       "      <td>129500</td>\n",
       "    </tr>\n",
       "    <tr>\n",
       "      <th>11</th>\n",
       "      <td>11924</td>\n",
       "      <td>7.603399</td>\n",
       "      <td>2324</td>\n",
       "      <td>345000</td>\n",
       "    </tr>\n",
       "    <tr>\n",
       "      <th>13</th>\n",
       "      <td>10652</td>\n",
       "      <td>7.603898</td>\n",
       "      <td>1494</td>\n",
       "      <td>279500</td>\n",
       "    </tr>\n",
       "    <tr>\n",
       "      <th>15</th>\n",
       "      <td>6120</td>\n",
       "      <td>7.564757</td>\n",
       "      <td>854</td>\n",
       "      <td>132000</td>\n",
       "    </tr>\n",
       "    <tr>\n",
       "      <th>17</th>\n",
       "      <td>10791</td>\n",
       "      <td>7.584265</td>\n",
       "      <td>1296</td>\n",
       "      <td>90000</td>\n",
       "    </tr>\n",
       "    <tr>\n",
       "      <th>18</th>\n",
       "      <td>13695</td>\n",
       "      <td>7.602900</td>\n",
       "      <td>1114</td>\n",
       "      <td>159000</td>\n",
       "    </tr>\n",
       "    <tr>\n",
       "      <th>19</th>\n",
       "      <td>7560</td>\n",
       "      <td>7.579679</td>\n",
       "      <td>1339</td>\n",
       "      <td>139000</td>\n",
       "    </tr>\n",
       "    <tr>\n",
       "      <th>20</th>\n",
       "      <td>14215</td>\n",
       "      <td>7.603399</td>\n",
       "      <td>2376</td>\n",
       "      <td>325300</td>\n",
       "    </tr>\n",
       "    <tr>\n",
       "      <th>21</th>\n",
       "      <td>7449</td>\n",
       "      <td>7.565275</td>\n",
       "      <td>1108</td>\n",
       "      <td>139400</td>\n",
       "    </tr>\n",
       "    <tr>\n",
       "      <th>22</th>\n",
       "      <td>9742</td>\n",
       "      <td>7.601902</td>\n",
       "      <td>1795</td>\n",
       "      <td>230000</td>\n",
       "    </tr>\n",
       "    <tr>\n",
       "      <th>23</th>\n",
       "      <td>4224</td>\n",
       "      <td>7.588830</td>\n",
       "      <td>1060</td>\n",
       "      <td>129900</td>\n",
       "    </tr>\n",
       "    <tr>\n",
       "      <th>25</th>\n",
       "      <td>14230</td>\n",
       "      <td>7.604396</td>\n",
       "      <td>1600</td>\n",
       "      <td>256300</td>\n",
       "    </tr>\n",
       "    <tr>\n",
       "      <th>26</th>\n",
       "      <td>7200</td>\n",
       "      <td>7.576097</td>\n",
       "      <td>900</td>\n",
       "      <td>134800</td>\n",
       "    </tr>\n",
       "    <tr>\n",
       "      <th>27</th>\n",
       "      <td>11478</td>\n",
       "      <td>7.604396</td>\n",
       "      <td>1704</td>\n",
       "      <td>306000</td>\n",
       "    </tr>\n",
       "    <tr>\n",
       "      <th>28</th>\n",
       "      <td>16321</td>\n",
       "      <td>7.579168</td>\n",
       "      <td>1600</td>\n",
       "      <td>207500</td>\n",
       "    </tr>\n",
       "    <tr>\n",
       "      <th>29</th>\n",
       "      <td>6324</td>\n",
       "      <td>7.563720</td>\n",
       "      <td>520</td>\n",
       "      <td>68500</td>\n",
       "    </tr>\n",
       "    <tr>\n",
       "      <th>30</th>\n",
       "      <td>8500</td>\n",
       "      <td>7.560080</td>\n",
       "      <td>1317</td>\n",
       "      <td>40000</td>\n",
       "    </tr>\n",
       "    <tr>\n",
       "      <th>32</th>\n",
       "      <td>11049</td>\n",
       "      <td>7.604396</td>\n",
       "      <td>1234</td>\n",
       "      <td>179900</td>\n",
       "    </tr>\n",
       "    <tr>\n",
       "      <th>33</th>\n",
       "      <td>10552</td>\n",
       "      <td>7.580189</td>\n",
       "      <td>1700</td>\n",
       "      <td>165500</td>\n",
       "    </tr>\n",
       "    <tr>\n",
       "      <th>34</th>\n",
       "      <td>7313</td>\n",
       "      <td>7.603399</td>\n",
       "      <td>1561</td>\n",
       "      <td>277500</td>\n",
       "    </tr>\n",
       "    <tr>\n",
       "      <th>35</th>\n",
       "      <td>13418</td>\n",
       "      <td>7.602900</td>\n",
       "      <td>2452</td>\n",
       "      <td>309000</td>\n",
       "    </tr>\n",
       "    <tr>\n",
       "      <th>...</th>\n",
       "      <td>...</td>\n",
       "      <td>...</td>\n",
       "      <td>...</td>\n",
       "      <td>...</td>\n",
       "    </tr>\n",
       "    <tr>\n",
       "      <th>1420</th>\n",
       "      <td>11700</td>\n",
       "      <td>7.584773</td>\n",
       "      <td>1416</td>\n",
       "      <td>179900</td>\n",
       "    </tr>\n",
       "    <tr>\n",
       "      <th>1421</th>\n",
       "      <td>4043</td>\n",
       "      <td>7.589336</td>\n",
       "      <td>1069</td>\n",
       "      <td>127500</td>\n",
       "    </tr>\n",
       "    <tr>\n",
       "      <th>1422</th>\n",
       "      <td>4435</td>\n",
       "      <td>7.602401</td>\n",
       "      <td>848</td>\n",
       "      <td>136500</td>\n",
       "    </tr>\n",
       "    <tr>\n",
       "      <th>1425</th>\n",
       "      <td>10721</td>\n",
       "      <td>7.580189</td>\n",
       "      <td>1252</td>\n",
       "      <td>142000</td>\n",
       "    </tr>\n",
       "    <tr>\n",
       "      <th>1426</th>\n",
       "      <td>10944</td>\n",
       "      <td>7.597898</td>\n",
       "      <td>2127</td>\n",
       "      <td>271000</td>\n",
       "    </tr>\n",
       "    <tr>\n",
       "      <th>1427</th>\n",
       "      <td>10930</td>\n",
       "      <td>7.573017</td>\n",
       "      <td>1558</td>\n",
       "      <td>140000</td>\n",
       "    </tr>\n",
       "    <tr>\n",
       "      <th>1428</th>\n",
       "      <td>7200</td>\n",
       "      <td>7.570443</td>\n",
       "      <td>804</td>\n",
       "      <td>119000</td>\n",
       "    </tr>\n",
       "    <tr>\n",
       "      <th>1430</th>\n",
       "      <td>21930</td>\n",
       "      <td>7.603399</td>\n",
       "      <td>1838</td>\n",
       "      <td>192140</td>\n",
       "    </tr>\n",
       "    <tr>\n",
       "      <th>1432</th>\n",
       "      <td>10800</td>\n",
       "      <td>7.563720</td>\n",
       "      <td>968</td>\n",
       "      <td>64500</td>\n",
       "    </tr>\n",
       "    <tr>\n",
       "      <th>1433</th>\n",
       "      <td>10261</td>\n",
       "      <td>7.600902</td>\n",
       "      <td>1792</td>\n",
       "      <td>186500</td>\n",
       "    </tr>\n",
       "    <tr>\n",
       "      <th>1434</th>\n",
       "      <td>17400</td>\n",
       "      <td>7.589336</td>\n",
       "      <td>1126</td>\n",
       "      <td>160000</td>\n",
       "    </tr>\n",
       "    <tr>\n",
       "      <th>1435</th>\n",
       "      <td>8400</td>\n",
       "      <td>7.581720</td>\n",
       "      <td>1537</td>\n",
       "      <td>174000</td>\n",
       "    </tr>\n",
       "    <tr>\n",
       "      <th>1436</th>\n",
       "      <td>9000</td>\n",
       "      <td>7.586296</td>\n",
       "      <td>864</td>\n",
       "      <td>120500</td>\n",
       "    </tr>\n",
       "    <tr>\n",
       "      <th>1437</th>\n",
       "      <td>12444</td>\n",
       "      <td>7.604894</td>\n",
       "      <td>1932</td>\n",
       "      <td>394617</td>\n",
       "    </tr>\n",
       "    <tr>\n",
       "      <th>1438</th>\n",
       "      <td>7407</td>\n",
       "      <td>7.579168</td>\n",
       "      <td>1236</td>\n",
       "      <td>149700</td>\n",
       "    </tr>\n",
       "    <tr>\n",
       "      <th>1439</th>\n",
       "      <td>11584</td>\n",
       "      <td>7.590347</td>\n",
       "      <td>1725</td>\n",
       "      <td>197000</td>\n",
       "    </tr>\n",
       "    <tr>\n",
       "      <th>1440</th>\n",
       "      <td>11526</td>\n",
       "      <td>7.561122</td>\n",
       "      <td>2555</td>\n",
       "      <td>191000</td>\n",
       "    </tr>\n",
       "    <tr>\n",
       "      <th>1442</th>\n",
       "      <td>11003</td>\n",
       "      <td>7.604894</td>\n",
       "      <td>2007</td>\n",
       "      <td>310000</td>\n",
       "    </tr>\n",
       "    <tr>\n",
       "      <th>1444</th>\n",
       "      <td>8500</td>\n",
       "      <td>7.602900</td>\n",
       "      <td>1422</td>\n",
       "      <td>179600</td>\n",
       "    </tr>\n",
       "    <tr>\n",
       "      <th>1445</th>\n",
       "      <td>8400</td>\n",
       "      <td>7.583756</td>\n",
       "      <td>913</td>\n",
       "      <td>129000</td>\n",
       "    </tr>\n",
       "    <tr>\n",
       "      <th>1447</th>\n",
       "      <td>10000</td>\n",
       "      <td>7.598399</td>\n",
       "      <td>2090</td>\n",
       "      <td>240000</td>\n",
       "    </tr>\n",
       "    <tr>\n",
       "      <th>1448</th>\n",
       "      <td>11767</td>\n",
       "      <td>7.554859</td>\n",
       "      <td>1346</td>\n",
       "      <td>112000</td>\n",
       "    </tr>\n",
       "    <tr>\n",
       "      <th>1451</th>\n",
       "      <td>9262</td>\n",
       "      <td>7.604894</td>\n",
       "      <td>1578</td>\n",
       "      <td>287090</td>\n",
       "    </tr>\n",
       "    <tr>\n",
       "      <th>1452</th>\n",
       "      <td>3675</td>\n",
       "      <td>7.603399</td>\n",
       "      <td>1072</td>\n",
       "      <td>145000</td>\n",
       "    </tr>\n",
       "    <tr>\n",
       "      <th>1454</th>\n",
       "      <td>7500</td>\n",
       "      <td>7.602900</td>\n",
       "      <td>1221</td>\n",
       "      <td>185000</td>\n",
       "    </tr>\n",
       "    <tr>\n",
       "      <th>1455</th>\n",
       "      <td>7917</td>\n",
       "      <td>7.600402</td>\n",
       "      <td>1647</td>\n",
       "      <td>175000</td>\n",
       "    </tr>\n",
       "    <tr>\n",
       "      <th>1456</th>\n",
       "      <td>13175</td>\n",
       "      <td>7.589842</td>\n",
       "      <td>2073</td>\n",
       "      <td>210000</td>\n",
       "    </tr>\n",
       "    <tr>\n",
       "      <th>1457</th>\n",
       "      <td>9042</td>\n",
       "      <td>7.570959</td>\n",
       "      <td>2340</td>\n",
       "      <td>266500</td>\n",
       "    </tr>\n",
       "    <tr>\n",
       "      <th>1458</th>\n",
       "      <td>9717</td>\n",
       "      <td>7.575585</td>\n",
       "      <td>1078</td>\n",
       "      <td>142125</td>\n",
       "    </tr>\n",
       "    <tr>\n",
       "      <th>1459</th>\n",
       "      <td>9937</td>\n",
       "      <td>7.583248</td>\n",
       "      <td>1256</td>\n",
       "      <td>147500</td>\n",
       "    </tr>\n",
       "  </tbody>\n",
       "</table>\n",
       "<p>1121 rows × 4 columns</p>\n",
       "</div>"
      ],
      "text/plain": [
       "      LotArea  YearBuilt  GrLivArea  SalePrice\n",
       "0        8450   7.602401       1710     208500\n",
       "1        9600   7.588830       1262     181500\n",
       "2       11250   7.601402       1786     223500\n",
       "3        9550   7.557473       1717     140000\n",
       "4       14260   7.600902       2198     250000\n",
       "5       14115   7.597396       1362     143000\n",
       "6       10084   7.602900       1694     307000\n",
       "8        6120   7.565793       1774     129900\n",
       "9        7420   7.569928       1077     118000\n",
       "10      11200   7.583248       1040     129500\n",
       "11      11924   7.603399       2324     345000\n",
       "13      10652   7.603898       1494     279500\n",
       "15       6120   7.564757        854     132000\n",
       "17      10791   7.584265       1296      90000\n",
       "18      13695   7.602900       1114     159000\n",
       "19       7560   7.579679       1339     139000\n",
       "20      14215   7.603399       2376     325300\n",
       "21       7449   7.565275       1108     139400\n",
       "22       9742   7.601902       1795     230000\n",
       "23       4224   7.588830       1060     129900\n",
       "25      14230   7.604396       1600     256300\n",
       "26       7200   7.576097        900     134800\n",
       "27      11478   7.604396       1704     306000\n",
       "28      16321   7.579168       1600     207500\n",
       "29       6324   7.563720        520      68500\n",
       "30       8500   7.560080       1317      40000\n",
       "32      11049   7.604396       1234     179900\n",
       "33      10552   7.580189       1700     165500\n",
       "34       7313   7.603399       1561     277500\n",
       "35      13418   7.602900       2452     309000\n",
       "...       ...        ...        ...        ...\n",
       "1420    11700   7.584773       1416     179900\n",
       "1421     4043   7.589336       1069     127500\n",
       "1422     4435   7.602401        848     136500\n",
       "1425    10721   7.580189       1252     142000\n",
       "1426    10944   7.597898       2127     271000\n",
       "1427    10930   7.573017       1558     140000\n",
       "1428     7200   7.570443        804     119000\n",
       "1430    21930   7.603399       1838     192140\n",
       "1432    10800   7.563720        968      64500\n",
       "1433    10261   7.600902       1792     186500\n",
       "1434    17400   7.589336       1126     160000\n",
       "1435     8400   7.581720       1537     174000\n",
       "1436     9000   7.586296        864     120500\n",
       "1437    12444   7.604894       1932     394617\n",
       "1438     7407   7.579168       1236     149700\n",
       "1439    11584   7.590347       1725     197000\n",
       "1440    11526   7.561122       2555     191000\n",
       "1442    11003   7.604894       2007     310000\n",
       "1444     8500   7.602900       1422     179600\n",
       "1445     8400   7.583756        913     129000\n",
       "1447    10000   7.598399       2090     240000\n",
       "1448    11767   7.554859       1346     112000\n",
       "1451     9262   7.604894       1578     287090\n",
       "1452     3675   7.603399       1072     145000\n",
       "1454     7500   7.602900       1221     185000\n",
       "1455     7917   7.600402       1647     175000\n",
       "1456    13175   7.589842       2073     210000\n",
       "1457     9042   7.570959       2340     266500\n",
       "1458     9717   7.575585       1078     142125\n",
       "1459     9937   7.583248       1256     147500\n",
       "\n",
       "[1121 rows x 4 columns]"
      ]
     },
     "execution_count": 27,
     "metadata": {},
     "output_type": "execute_result"
    }
   ],
   "source": [
    "new_df"
   ]
  },
  {
   "cell_type": "code",
   "execution_count": 28,
   "metadata": {
    "collapsed": false
   },
   "outputs": [],
   "source": [
    "new_X_train, new_X_test, new_y_train, new_y_test = train_test_split(new_X,new_y,test_size = 0.33, random_state=42)"
   ]
  },
  {
   "cell_type": "code",
   "execution_count": 29,
   "metadata": {
    "collapsed": false
   },
   "outputs": [
    {
     "name": "stdout",
     "output_type": "stream",
     "text": [
      "Root mean square error with three most important variables:  48916.9615396\n"
     ]
    }
   ],
   "source": [
    "linear=LinearRegression()\n",
    "linear.fit(new_X_train, new_y_train)\n",
    "pred=linear.predict(new_X_test)\n",
    "actual=new_y_test\n",
    "mean_sq_err=np.mean((actual-pred)**2)\n",
    "print 'Root mean square error with three most important variables: ', np.sqrt(mean_sq_err)"
   ]
  },
  {
   "cell_type": "markdown",
   "metadata": {},
   "source": [
    "Now to do a ridge regression on the three important variables..."
   ]
  },
  {
   "cell_type": "code",
   "execution_count": 31,
   "metadata": {
    "collapsed": false
   },
   "outputs": [],
   "source": [
    "from sklearn.linear_model import Ridge\n",
    "\n",
    "kf=KFold(n_splits=5, random_state=42)\n",
    "\n",
    "\n",
    "alphas = 10**np.linspace(10,-2,100)*0.5\n",
    "\n",
    "scores = []\n",
    "\n",
    "for alpha in alphas:\n",
    "    MSERidge = []\n",
    "    for train, test in kf.split(new_X_train):\n",
    "        ridge= Ridge(random_state=42, alpha=alpha)\n",
    "        ridge.fit(new_X_train.iloc[train], new_y_train.iloc[train])\n",
    "        \n",
    "        pred=ridge.predict(new_X.iloc[test])\n",
    "        actual=new_y[test]\n",
    "        \n",
    "        MSE=np.mean((pred-actual)**2)\n",
    "        \n",
    "        MSERidge.append(MSE)\n",
    "    \n",
    "    scores.append((alpha, np.mean(MSERidge)))\n",
    "        \n",
    "best_lambda_ridge = sorted(scores, key=lambda x: x[1])[0][0]"
   ]
  },
  {
   "cell_type": "code",
   "execution_count": 32,
   "metadata": {
    "collapsed": false
   },
   "outputs": [
    {
     "data": {
      "text/plain": [
       "5000000000.0"
      ]
     },
     "execution_count": 32,
     "metadata": {},
     "output_type": "execute_result"
    }
   ],
   "source": [
    "best_lambda_ridge"
   ]
  },
  {
   "cell_type": "code",
   "execution_count": 33,
   "metadata": {
    "collapsed": false
   },
   "outputs": [
    {
     "name": "stdout",
     "output_type": "stream",
     "text": [
      "Ridge regression on the most important variables gave an RMSE of  83462.7899562\n"
     ]
    }
   ],
   "source": [
    "ridge1=Ridge(alpha=best_lambda_ridge)\n",
    "ridge1.fit(new_X_train, new_y_train)\n",
    "pred_ridge=ridge1.predict(new_X_test)\n",
    "print 'Ridge regression on the most important variables gave an RMSE of ', np.sqrt(np.mean((pred_ridge-new_y_test)**2))"
   ]
  },
  {
   "cell_type": "markdown",
   "metadata": {},
   "source": [
    "Now to run an MLP on the whole data set, and then only the important variables..."
   ]
  },
  {
   "cell_type": "code",
   "execution_count": 35,
   "metadata": {
    "collapsed": false
   },
   "outputs": [
    {
     "data": {
      "text/plain": [
       "79996.362899293905"
      ]
     },
     "execution_count": 35,
     "metadata": {},
     "output_type": "execute_result"
    }
   ],
   "source": [
    "from sklearn.neural_network import MLPRegressor\n",
    "kf=KFold(n_splits=5)\n",
    "\n",
    "\n",
    "MSE_MLP = []\n",
    "for train, test in kf.split(X_train):\n",
    "    MLP= MLPRegressor(hidden_layer_sizes=(2,),activation='tanh',solver='sgd', learning_rate='constant',random_state=42, batch_size=40, learning_rate_init=0.001)\n",
    "    MLP.fit(X_train.iloc[train], y_train.iloc[train])\n",
    "        \n",
    "    pred=MLP.predict(X_train.iloc[test])\n",
    "    actual=y_train.iloc[test]\n",
    "        \n",
    "    MSE=np.mean((pred-actual)**2)\n",
    "        \n",
    "    MSE_MLP.append(MSE)\n",
    "    \n",
    "average_RMSE1= np.mean(np.sqrt(MSE_MLP))\n",
    "average_RMSE1       "
   ]
  },
  {
   "cell_type": "code",
   "execution_count": 36,
   "metadata": {
    "collapsed": false
   },
   "outputs": [
    {
     "data": {
      "text/plain": [
       "79683.780703951634"
      ]
     },
     "execution_count": 36,
     "metadata": {},
     "output_type": "execute_result"
    }
   ],
   "source": [
    "kf=KFold(n_splits=5)\n",
    "\n",
    "\n",
    "MSE_MLP = []\n",
    "for train, test in kf.split(new_X_train):\n",
    "    MLP= MLPRegressor(hidden_layer_sizes=(15,),activation='tanh',solver='sgd', learning_rate='constant',random_state=42, batch_size=40, learning_rate_init=0.001)\n",
    "    MLP.fit(new_X_train.iloc[train], new_y_train.iloc[train])\n",
    "        \n",
    "    pred=MLP.predict(new_X_train.iloc[test])\n",
    "    actual=new_y_train.iloc[test]\n",
    "        \n",
    "    MSE=np.mean((pred-actual)**2)\n",
    "        \n",
    "    MSE_MLP.append(MSE)\n",
    "    \n",
    "average_RMSE1= np.mean(np.sqrt(MSE_MLP))\n",
    "average_RMSE1       "
   ]
  },
  {
   "cell_type": "markdown",
   "metadata": {},
   "source": [
    "The best model we developed was by taking out variables with coefficients reduced to zero by lasso regression, and then a ridge regression on those variables.  This brought an error around 40,000, depending on the seed used.  The score reported from kaggle.com is..."
   ]
  },
  {
   "cell_type": "markdown",
   "metadata": {},
   "source": [
    "<img src=\"Capture.png\">"
   ]
  },
  {
   "cell_type": "code",
   "execution_count": 37,
   "metadata": {
    "collapsed": true
   },
   "outputs": [],
   "source": [
    "test=pd.read_csv('test.csv')"
   ]
  },
  {
   "cell_type": "code",
   "execution_count": 38,
   "metadata": {
    "collapsed": true
   },
   "outputs": [],
   "source": [
    "test['YearBuilt']=np.log(test['YearBuilt'])"
   ]
  },
  {
   "cell_type": "code",
   "execution_count": 39,
   "metadata": {
    "collapsed": false
   },
   "outputs": [],
   "source": [
    "test_use=test[['LotArea', 'YearBuilt', 'GrLivArea']]\n",
    "#test_with_dummies=pd.get_dummies(test_use).dropna()"
   ]
  },
  {
   "cell_type": "code",
   "execution_count": 40,
   "metadata": {
    "collapsed": true
   },
   "outputs": [],
   "source": [
    "from sklearn.linear_model import LinearRegression"
   ]
  },
  {
   "cell_type": "code",
   "execution_count": 41,
   "metadata": {
    "collapsed": false,
    "scrolled": true
   },
   "outputs": [
    {
     "data": {
      "text/plain": [
       "array([ 115777.87642002,  156024.39262278,  225181.67688991, ...,\n",
       "        154569.44961458,  154441.14528257,  251165.87588569])"
      ]
     },
     "execution_count": 41,
     "metadata": {},
     "output_type": "execute_result"
    }
   ],
   "source": [
    "linear = LinearRegression()\n",
    "linear.fit(new_X, new_y)\n",
    "linear.predict(test_use)"
   ]
  },
  {
   "cell_type": "code",
   "execution_count": 45,
   "metadata": {
    "collapsed": false
   },
   "outputs": [],
   "source": [
    "output = linear.predict(test_use)\n",
    "final = pd.DataFrame(output, index=test.Id.values, columns=['SalePrice'])\n",
    "final.index.name = 'Id'\n",
    "final.to_csv('prediction.csv')"
   ]
  }
 ],
 "metadata": {
  "kernelspec": {
   "display_name": "Python 2",
   "language": "python",
   "name": "python2"
  },
  "language_info": {
   "codemirror_mode": {
    "name": "ipython",
    "version": 2
   },
   "file_extension": ".py",
   "mimetype": "text/x-python",
   "name": "python",
   "nbconvert_exporter": "python",
   "pygments_lexer": "ipython2",
   "version": "2.7.12"
  }
 },
 "nbformat": 4,
 "nbformat_minor": 0
}
